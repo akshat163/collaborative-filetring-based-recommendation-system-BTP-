{
 "cells": [
  {
   "cell_type": "markdown",
   "metadata": {
    "_cell_guid": "10da2f24-179e-4fa1-a4a2-e2cff6c79187",
    "_uuid": "6a5c3d6e-a7cb-4100-9044-6e6913edfb4d"
   },
   "source": [
    "<a id=\"a1\"></a>\n",
    "# Import the necessary libraries"
   ]
  },
  {
   "cell_type": "code",
   "execution_count": 3,
   "metadata": {
    "_cell_guid": "9369bd1a-a976-4856-8bac-70ea44a1af02",
    "_uuid": "068bf21d-d0cd-49bf-a64e-2779ef829f5e",
    "collapsed": false,
    "execution": {
     "iopub.execute_input": "2024-05-01T09:55:20.823541Z",
     "iopub.status.busy": "2024-05-01T09:55:20.823166Z",
     "iopub.status.idle": "2024-05-01T09:55:22.939565Z",
     "shell.execute_reply": "2024-05-01T09:55:22.938249Z",
     "shell.execute_reply.started": "2024-05-01T09:55:20.823504Z"
    },
    "jupyter": {
     "outputs_hidden": false
    }
   },
   "outputs": [],
   "source": [
    "import warnings\n",
    "warnings.filterwarnings('ignore')\n",
    "import numpy as np\n",
    "import pandas as pd\n",
    "import matplotlib.pyplot as plt\n",
    "import seaborn as sns\n",
    "sns.set_color_codes()\n",
    "sns.set(style=\"whitegrid\")\n",
    "%matplotlib inline\n",
    "from scipy.stats import zscore\n",
    "from sklearn import metrics\n",
    "from sklearn.model_selection import train_test_split\n",
    "from sklearn.model_selection import KFold\n",
    "from sklearn.model_selection import cross_val_score\n",
    "from sklearn.decomposition import PCA\n",
    "from sklearn.preprocessing import StandardScaler\n",
    "from sklearn.metrics import mean_squared_error\n",
    "from math import sqrt\n",
    "\n",
    "import requests\n",
    "from io import StringIO\n",
    "\n",
    "#setting up for customized printing\n",
    "from IPython.display import Markdown, display\n",
    "from IPython.display import HTML\n",
    "def printmd(string, color=None):\n",
    "    colorstr = \"<span style='color:{}'>{}</span>\".format(color, string)\n",
    "    display(Markdown(colorstr))\n",
    "    \n",
    "#function to display dataframes side by side    \n",
    "from IPython.display import display_html\n",
    "def display_side_by_side(args):\n",
    "    html_str=''\n",
    "    for df in args:\n",
    "        html_str+=df.to_html()\n",
    "    display_html(html_str.replace('table','table style=\"display:inline;margin-left:50px !important;margin-right: 40px !important\"'),raw=True)"
   ]
  },
  {
   "cell_type": "code",
   "execution_count": 4,
   "metadata": {
    "_cell_guid": "a5cbfb46-9185-4ad1-a417-987343608b41",
    "_uuid": "4734d678-0e10-4db0-96a1-6e7a4b454c00",
    "collapsed": false,
    "execution": {
     "iopub.execute_input": "2024-05-01T09:55:24.535451Z",
     "iopub.status.busy": "2024-05-01T09:55:24.535069Z",
     "iopub.status.idle": "2024-05-01T09:55:24.551994Z",
     "shell.execute_reply": "2024-05-01T09:55:24.550869Z",
     "shell.execute_reply.started": "2024-05-01T09:55:24.535412Z"
    },
    "jupyter": {
     "outputs_hidden": false
    }
   },
   "outputs": [],
   "source": [
    "def distplot(figRows,figCols,xSize, ySize, data, features, colors, kde=True, bins=None):\n",
    "    f, axes = plt.subplots(figRows, figCols, figsize=(xSize, ySize))\n",
    "    \n",
    "    features = np.array(features).reshape(figRows, figCols)\n",
    "    colors = np.array(colors).reshape(figRows, figCols)\n",
    "    \n",
    "    for row in range(figRows):\n",
    "        for col in range(figCols):\n",
    "            if (figRows == 1 and figCols == 1) :\n",
    "                axesplt = axes\n",
    "            elif (figRows == 1 and figCols > 1) :\n",
    "                axesplt = axes[col]\n",
    "            elif (figRows > 1 and figCols == 1) :\n",
    "                axesplt = axes[row]\n",
    "            else:\n",
    "                axesplt = axes[row][col]\n",
    "            plot = sns.distplot(data[features[row][col]], color=colors[row][col], bins=bins, ax=axesplt, kde=kde, hist_kws={\"edgecolor\":\"k\"})\n",
    "            plot.set_xlabel(features[row][col],fontsize=20)"
   ]
  },
  {
   "cell_type": "code",
   "execution_count": 5,
   "metadata": {
    "_cell_guid": "67af1a0c-497d-4ad8-bbd8-915f56756ab9",
    "_uuid": "33c49c4d-8493-4847-91b6-ba1bc83d839e",
    "collapsed": false,
    "execution": {
     "iopub.execute_input": "2024-05-01T09:55:26.178947Z",
     "iopub.status.busy": "2024-05-01T09:55:26.178550Z",
     "iopub.status.idle": "2024-05-01T09:55:26.186657Z",
     "shell.execute_reply": "2024-05-01T09:55:26.185228Z",
     "shell.execute_reply.started": "2024-05-01T09:55:26.178908Z"
    },
    "jupyter": {
     "outputs_hidden": false
    }
   },
   "outputs": [],
   "source": [
    "def scatterplot(rowFeature, colFeature, data):\n",
    "    f, axes = plt.subplots(1, 1, figsize=(10, 8))\n",
    "        \n",
    "    plot=sns.scatterplot(x=rowFeature, y=colFeature, data=data, ax=axes)\n",
    "    plot.set_xlabel(rowFeature,fontsize=20)\n",
    "    plot.set_ylabel(colFeature,fontsize=20)"
   ]
  },
  {
   "cell_type": "markdown",
   "metadata": {
    "_cell_guid": "74bd06cb-45da-4555-b724-5819e248fb20",
    "_uuid": "f53c116e-7794-4e79-96dc-a97a4b9f7656"
   },
   "source": [
    "<a id=\"a2\"></a>\n",
    "# Read the data as a data frame"
   ]
  },
  {
   "cell_type": "code",
   "execution_count": 6,
   "metadata": {
    "_cell_guid": "3349c2d2-1734-4c0a-bc77-84d3e0ad6649",
    "_uuid": "d1f368bd-eeff-4ce6-84b5-10819ceb8667",
    "collapsed": false,
    "execution": {
     "iopub.execute_input": "2024-05-01T09:55:28.101096Z",
     "iopub.status.busy": "2024-05-01T09:55:28.100696Z",
     "iopub.status.idle": "2024-05-01T09:55:28.236651Z",
     "shell.execute_reply": "2024-05-01T09:55:28.235628Z",
     "shell.execute_reply.started": "2024-05-01T09:55:28.101046Z"
    },
    "jupyter": {
     "outputs_hidden": false
    }
   },
   "outputs": [
    {
     "data": {
      "text/html": [
       "<div>\n",
       "<style scoped>\n",
       "    .dataframe tbody tr th:only-of-type {\n",
       "        vertical-align: middle;\n",
       "    }\n",
       "\n",
       "    .dataframe tbody tr th {\n",
       "        vertical-align: top;\n",
       "    }\n",
       "\n",
       "    .dataframe thead th {\n",
       "        text-align: right;\n",
       "    }\n",
       "</style>\n",
       "<table border=\"1\" class=\"dataframe\">\n",
       "  <thead>\n",
       "    <tr style=\"text-align: right;\">\n",
       "      <th></th>\n",
       "      <th>userId</th>\n",
       "      <th>movieId</th>\n",
       "      <th>Rating</th>\n",
       "      <th>timestamp</th>\n",
       "    </tr>\n",
       "  </thead>\n",
       "  <tbody>\n",
       "    <tr>\n",
       "      <th>0</th>\n",
       "      <td>196</td>\n",
       "      <td>242</td>\n",
       "      <td>3</td>\n",
       "      <td>881250949</td>\n",
       "    </tr>\n",
       "    <tr>\n",
       "      <th>1</th>\n",
       "      <td>186</td>\n",
       "      <td>302</td>\n",
       "      <td>3</td>\n",
       "      <td>891717742</td>\n",
       "    </tr>\n",
       "    <tr>\n",
       "      <th>2</th>\n",
       "      <td>22</td>\n",
       "      <td>377</td>\n",
       "      <td>1</td>\n",
       "      <td>878887116</td>\n",
       "    </tr>\n",
       "    <tr>\n",
       "      <th>3</th>\n",
       "      <td>244</td>\n",
       "      <td>51</td>\n",
       "      <td>2</td>\n",
       "      <td>880606923</td>\n",
       "    </tr>\n",
       "    <tr>\n",
       "      <th>4</th>\n",
       "      <td>166</td>\n",
       "      <td>346</td>\n",
       "      <td>1</td>\n",
       "      <td>886397596</td>\n",
       "    </tr>\n",
       "  </tbody>\n",
       "</table>\n",
       "</div>"
      ],
      "text/plain": [
       "   userId  movieId  Rating  timestamp\n",
       "0     196      242       3  881250949\n",
       "1     186      302       3  891717742\n",
       "2      22      377       1  878887116\n",
       "3     244       51       2  880606923\n",
       "4     166      346       1  886397596"
      ]
     },
     "execution_count": 6,
     "metadata": {},
     "output_type": "execute_result"
    }
   ],
   "source": [
    "movies = pd.read_csv('/kaggle/input/movielens-100k-dataset/ml-100k/u.data', delimiter='\\t', names=['userId', 'movieId', 'Rating','timestamp'], header=None)\n",
    "movies.head()"
   ]
  },
  {
   "cell_type": "markdown",
   "metadata": {
    "_cell_guid": "a75a9ce8-2a55-4c9a-90c4-1ccbf947865f",
    "_uuid": "36caed13-73c3-4a79-9943-47725f91e363"
   },
   "source": [
    "<a id=\"a4\"></a>\n",
    "# Perform basic EDA"
   ]
  },
  {
   "cell_type": "markdown",
   "metadata": {
    "_cell_guid": "4782e2e2-4189-4350-b1dd-590211b09032",
    "_uuid": "997579a2-611c-4f60-9fc9-5d179b24e4d7"
   },
   "source": [
    "<a id=\"a4a\"></a>\n",
    "## a. Drop 'timestamp' attribute"
   ]
  },
  {
   "cell_type": "code",
   "execution_count": 7,
   "metadata": {
    "_cell_guid": "e2964e8e-f627-4cb7-bc77-3fe61dd5e8c6",
    "_uuid": "eb60f024-0d26-4b27-a831-3848cbdd8ea2",
    "collapsed": false,
    "execution": {
     "iopub.execute_input": "2024-05-01T09:55:33.741417Z",
     "iopub.status.busy": "2024-05-01T09:55:33.740740Z",
     "iopub.status.idle": "2024-05-01T09:55:33.751288Z",
     "shell.execute_reply": "2024-05-01T09:55:33.749991Z",
     "shell.execute_reply.started": "2024-05-01T09:55:33.741372Z"
    },
    "jupyter": {
     "outputs_hidden": false
    }
   },
   "outputs": [],
   "source": [
    "movies.drop('timestamp', axis=1, inplace=True)"
   ]
  },
  {
   "cell_type": "markdown",
   "metadata": {
    "_cell_guid": "22bd984e-5d2e-434e-9467-849000d5266f",
    "_uuid": "e77ac9c9-a0ad-48fe-ab57-41ddc61d5b4f"
   },
   "source": [
    "<a id=\"a4b\"></a>\n",
    "## b. Create subset of the original dataset"
   ]
  },
  {
   "cell_type": "markdown",
   "metadata": {
    "_cell_guid": "0ee728c6-0315-41b9-bb24-803fc4fff23b",
    "_uuid": "d910a35b-6329-4689-a70a-760aeb08a1e3"
   },
   "source": [
    "**Filtering the users who has given 50 or more number of ratings**"
   ]
  },
  {
   "cell_type": "code",
   "execution_count": 8,
   "metadata": {
    "_cell_guid": "a69001ac-e893-4b47-8a98-82cd4424c695",
    "_uuid": "bab33741-e64b-4055-bd85-937dac642007",
    "collapsed": false,
    "execution": {
     "iopub.execute_input": "2024-05-01T09:55:38.065905Z",
     "iopub.status.busy": "2024-05-01T09:55:38.065516Z",
     "iopub.status.idle": "2024-05-01T09:55:38.090124Z",
     "shell.execute_reply": "2024-05-01T09:55:38.089256Z",
     "shell.execute_reply.started": "2024-05-01T09:55:38.065868Z"
    },
    "jupyter": {
     "outputs_hidden": false
    }
   },
   "outputs": [],
   "source": [
    "movies_groupby_users_Ratings = movies.groupby('userId')['Rating']\n",
    "movies_groupby_users_Ratings = pd.DataFrame(movies_groupby_users_Ratings.count())\n",
    "user_list_min50_ratings = movies_groupby_users_Ratings[movies_groupby_users_Ratings['Rating'] >= 50].index\n",
    "movies =  movies[movies['userId'].isin(user_list_min50_ratings)]"
   ]
  },
  {
   "cell_type": "markdown",
   "metadata": {
    "_cell_guid": "3cf853a3-aceb-4682-976b-eb5e3d3c61cd",
    "_uuid": "f45c4593-a299-4c9e-ae39-e37826067b41"
   },
   "source": [
    "<a id=\"a4c\"></a>\n",
    "## c. Shape of the data"
   ]
  },
  {
   "cell_type": "code",
   "execution_count": 22,
   "metadata": {
    "_cell_guid": "50f2c629-5896-4647-b05a-8987df83ca94",
    "_uuid": "9ee86b7f-2cbd-4f92-97d0-5d756dbc0bc3",
    "collapsed": false,
    "execution": {
     "iopub.execute_input": "2024-05-01T08:33:03.747413Z",
     "iopub.status.busy": "2024-05-01T08:33:03.747022Z",
     "iopub.status.idle": "2024-05-01T08:33:03.753593Z",
     "shell.execute_reply": "2024-05-01T08:33:03.752592Z",
     "shell.execute_reply.started": "2024-05-01T08:33:03.747374Z"
    },
    "jupyter": {
     "outputs_hidden": false
    }
   },
   "outputs": [
    {
     "name": "stdout",
     "output_type": "stream",
     "text": [
      "The total number of rows : 88471\n",
      "The total number of columns : 3\n"
     ]
    }
   ],
   "source": [
    "print('The total number of rows :', movies.shape[0])\n",
    "print('The total number of columns :', movies.shape[1])"
   ]
  },
  {
   "cell_type": "markdown",
   "metadata": {
    "_cell_guid": "06aac9f8-30d0-4665-9bc2-b0b394e28381",
    "_uuid": "1a502ae6-4e1f-43a5-8e78-fa3b002c0999"
   },
   "source": [
    "<a id=\"a4d\"></a>\n",
    "## d. Data type of each attribute"
   ]
  },
  {
   "cell_type": "code",
   "execution_count": 23,
   "metadata": {
    "_cell_guid": "8c3c31a3-0289-4dbb-a750-11b609449f90",
    "_uuid": "3abb308c-e128-44c4-a825-a4b3a7d7f2eb",
    "collapsed": false,
    "execution": {
     "iopub.execute_input": "2024-05-01T08:33:03.755468Z",
     "iopub.status.busy": "2024-05-01T08:33:03.755167Z",
     "iopub.status.idle": "2024-05-01T08:33:03.775075Z",
     "shell.execute_reply": "2024-05-01T08:33:03.773796Z",
     "shell.execute_reply.started": "2024-05-01T08:33:03.755436Z"
    },
    "jupyter": {
     "outputs_hidden": false
    }
   },
   "outputs": [
    {
     "name": "stdout",
     "output_type": "stream",
     "text": [
      "<class 'pandas.core.frame.DataFrame'>\n",
      "Int64Index: 88471 entries, 1 to 99999\n",
      "Data columns (total 3 columns):\n",
      "userId     88471 non-null int64\n",
      "movieId    88471 non-null int64\n",
      "Rating     88471 non-null int64\n",
      "dtypes: int64(3)\n",
      "memory usage: 2.7 MB\n"
     ]
    }
   ],
   "source": [
    "movies.info()"
   ]
  },
  {
   "cell_type": "markdown",
   "metadata": {
    "_cell_guid": "7420dd97-fc34-4d7d-bb09-aa5c7e9d1251",
    "_uuid": "8585ed86-ed77-4533-b298-b0b58d056727"
   },
   "source": [
    "<a id=\"a4e\"></a>\n",
    "## e. Checking the presence of missing values"
   ]
  },
  {
   "cell_type": "code",
   "execution_count": 24,
   "metadata": {
    "_cell_guid": "3102f27b-7df1-46de-90c5-e993282894e4",
    "_uuid": "27d10207-ba1e-440d-ae3c-52841924bd51",
    "collapsed": false,
    "execution": {
     "iopub.execute_input": "2024-05-01T08:33:03.778733Z",
     "iopub.status.busy": "2024-05-01T08:33:03.778405Z",
     "iopub.status.idle": "2024-05-01T08:33:03.792282Z",
     "shell.execute_reply": "2024-05-01T08:33:03.791225Z",
     "shell.execute_reply.started": "2024-05-01T08:33:03.778697Z"
    },
    "jupyter": {
     "outputs_hidden": false
    }
   },
   "outputs": [
    {
     "data": {
      "text/plain": [
       "userId     0\n",
       "movieId    0\n",
       "Rating     0\n",
       "dtype: int64"
      ]
     },
     "metadata": {},
     "output_type": "display_data"
    },
    {
     "name": "stdout",
     "output_type": "stream",
     "text": [
      "===================\n"
     ]
    },
    {
     "data": {
      "text/markdown": [
       "<span style='color:blue'>**CONCLUSION**: As seen from the data above, we conclude there are **\"No Missing\"** values in the data</span>"
      ],
      "text/plain": [
       "<IPython.core.display.Markdown object>"
      ]
     },
     "metadata": {},
     "output_type": "display_data"
    }
   ],
   "source": [
    "display(movies.isna().sum().sort_values())\n",
    "print('===================')\n",
    "printmd('**CONCLUSION**: As seen from the data above, we conclude there are **\"No Missing\"** values in the data', color=\"blue\")"
   ]
  },
  {
   "cell_type": "markdown",
   "metadata": {
    "_cell_guid": "c5b806b0-ad5d-4223-84be-16456c1b19e7",
    "_uuid": "08b9941e-0ea7-446d-99b6-bb5e19f64af9"
   },
   "source": [
    "<a id=\"a4f\"></a>\n",
    "## f. 5 point summary of numerical attributes"
   ]
  },
  {
   "cell_type": "code",
   "execution_count": 25,
   "metadata": {
    "_cell_guid": "ce34aa78-565b-43da-8fcd-3da74c360850",
    "_uuid": "3c0a55c7-4cc6-4fa2-839d-5f55216c9f46",
    "collapsed": false,
    "execution": {
     "iopub.execute_input": "2024-05-01T08:33:03.795917Z",
     "iopub.status.busy": "2024-05-01T08:33:03.795603Z",
     "iopub.status.idle": "2024-05-01T08:33:03.828158Z",
     "shell.execute_reply": "2024-05-01T08:33:03.827298Z",
     "shell.execute_reply.started": "2024-05-01T08:33:03.795880Z"
    },
    "jupyter": {
     "outputs_hidden": false
    }
   },
   "outputs": [
    {
     "data": {
      "text/html": [
       "<div>\n",
       "<style scoped>\n",
       "    .dataframe tbody tr th:only-of-type {\n",
       "        vertical-align: middle;\n",
       "    }\n",
       "\n",
       "    .dataframe tbody tr th {\n",
       "        vertical-align: top;\n",
       "    }\n",
       "\n",
       "    .dataframe thead th {\n",
       "        text-align: right;\n",
       "    }\n",
       "</style>\n",
       "<table border=\"1\" class=\"dataframe\">\n",
       "  <thead>\n",
       "    <tr style=\"text-align: right;\">\n",
       "      <th></th>\n",
       "      <th>count</th>\n",
       "      <th>mean</th>\n",
       "      <th>std</th>\n",
       "      <th>min</th>\n",
       "      <th>25%</th>\n",
       "      <th>50%</th>\n",
       "      <th>75%</th>\n",
       "      <th>max</th>\n",
       "    </tr>\n",
       "  </thead>\n",
       "  <tbody>\n",
       "    <tr>\n",
       "      <th>Rating</th>\n",
       "      <td>88471.0</td>\n",
       "      <td>3.520193</td>\n",
       "      <td>1.124115</td>\n",
       "      <td>1.0</td>\n",
       "      <td>3.0</td>\n",
       "      <td>4.0</td>\n",
       "      <td>4.0</td>\n",
       "      <td>5.0</td>\n",
       "    </tr>\n",
       "  </tbody>\n",
       "</table>\n",
       "</div>"
      ],
      "text/plain": [
       "          count      mean       std  min  25%  50%  75%  max\n",
       "Rating  88471.0  3.520193  1.124115  1.0  3.0  4.0  4.0  5.0"
      ]
     },
     "metadata": {},
     "output_type": "display_data"
    }
   ],
   "source": [
    "display(movies[['Rating']].describe().transpose())"
   ]
  },
  {
   "cell_type": "markdown",
   "metadata": {
    "_cell_guid": "a8491482-e9f0-4e0c-98bd-892ed9679a09",
    "_uuid": "dfc35df3-260c-467c-8108-a0977679ae43"
   },
   "source": [
    "<a id=\"a4g\"></a>\n",
    "## g. Unique Users and Movies Count"
   ]
  },
  {
   "cell_type": "code",
   "execution_count": 26,
   "metadata": {
    "_cell_guid": "7f573f7b-9ca0-4813-b456-33d4da94b9ea",
    "_uuid": "93e8579c-2002-4a08-872a-c4df6a81aebb",
    "collapsed": false,
    "execution": {
     "iopub.execute_input": "2024-05-01T08:33:03.829970Z",
     "iopub.status.busy": "2024-05-01T08:33:03.829703Z",
     "iopub.status.idle": "2024-05-01T08:33:03.838511Z",
     "shell.execute_reply": "2024-05-01T08:33:03.837259Z",
     "shell.execute_reply.started": "2024-05-01T08:33:03.829940Z"
    },
    "jupyter": {
     "outputs_hidden": false
    }
   },
   "outputs": [
    {
     "name": "stdout",
     "output_type": "stream",
     "text": [
      "Total unique users in the dataset 568\n",
      "Total unique movies in the dataset 1681\n"
     ]
    }
   ],
   "source": [
    "print('Total unique users in the dataset', movies['userId'].nunique())\n",
    "print('Total unique movies in the dataset', movies['movieId'].nunique())"
   ]
  },
  {
   "cell_type": "markdown",
   "metadata": {
    "_cell_guid": "777930f0-6bb1-47da-a346-6c61626f24d6",
    "_uuid": "7a5f00eb-14fb-4c9c-ad08-abc45aca55a4"
   },
   "source": [
    "<a id=\"a5\"></a>\n",
    "# Data Analysis and Visualization"
   ]
  },
  {
   "cell_type": "markdown",
   "metadata": {
    "_cell_guid": "ffce68ff-b004-460c-89a5-c6510590aa4c",
    "_uuid": "87f90c16-6836-4f6f-8cae-f974d1ee5884"
   },
   "source": [
    "<a id=\"a5a\"></a>\n",
    "## a. Rating Distribution"
   ]
  },
  {
   "cell_type": "code",
   "execution_count": 27,
   "metadata": {
    "_cell_guid": "629f1dd9-77a0-4b86-99d4-37bb66c29ba4",
    "_uuid": "0a82b5d3-4dbc-4aca-97c4-53f180705e2e",
    "collapsed": false,
    "execution": {
     "iopub.execute_input": "2024-05-01T08:33:03.840378Z",
     "iopub.status.busy": "2024-05-01T08:33:03.840101Z",
     "iopub.status.idle": "2024-05-01T08:33:04.334130Z",
     "shell.execute_reply": "2024-05-01T08:33:04.332845Z",
     "shell.execute_reply.started": "2024-05-01T08:33:03.840348Z"
    },
    "jupyter": {
     "outputs_hidden": false
    }
   },
   "outputs": [
    {
     "data": {
      "image/png": "[encoded data removed]",
      "text/plain": [
       "<Figure size 720x504 with 1 Axes>"
      ]
     },
     "metadata": {
      "needs_background": "light"
     },
     "output_type": "display_data"
    }
   ],
   "source": [
    "pal = sns.color_palette(palette='Set1', n_colors=16)\n",
    "distplot(1, 1, 10, 7, data=movies, features=['Rating'], colors=['blue'])"
   ]
  },
  {
   "cell_type": "code",
   "execution_count": 28,
   "metadata": {
    "_cell_guid": "0d4d31e5-f58d-44d5-adf3-15d6f141dfe3",
    "_uuid": "e1aae410-4f13-45b7-996d-2669580c1994",
    "collapsed": false,
    "execution": {
     "iopub.execute_input": "2024-05-01T08:33:04.336358Z",
     "iopub.status.busy": "2024-05-01T08:33:04.335930Z",
     "iopub.status.idle": "2024-05-01T08:33:04.838269Z",
     "shell.execute_reply": "2024-05-01T08:33:04.837205Z",
     "shell.execute_reply.started": "2024-05-01T08:33:04.336313Z"
    },
    "jupyter": {
     "outputs_hidden": false
    }
   },
   "outputs": [
    {
     "data": {
      "image/png": "[encoded data removed]",
      "text/plain": [
       "<Figure size 720x504 with 1 Axes>"
      ]
     },
     "metadata": {
      "needs_background": "light"
     },
     "output_type": "display_data"
    }
   ],
   "source": [
    "distplot(1, 1, 10, 7, data=movies, features=['Rating'], colors=['red'], kde=False)"
   ]
  },
  {
   "cell_type": "markdown",
   "metadata": {
    "_cell_guid": "3f3cb1f6-a1e7-4502-88ea-26777d87f32b",
    "_uuid": "ebf77bb4-bac3-4d06-8b5f-b83fbc2a063f"
   },
   "source": [
    "<a id=\"a5b\"></a>\n",
    "## b. Top Rating Count Distribution grouped by Movies"
   ]
  },
  {
   "cell_type": "code",
   "execution_count": 29,
   "metadata": {
    "_cell_guid": "250a2e01-2a52-4b70-9ba0-988c0e5becda",
    "_uuid": "c3132341-918a-451a-8fa8-c07700997e37",
    "collapsed": false,
    "execution": {
     "iopub.execute_input": "2024-05-01T08:33:04.840093Z",
     "iopub.status.busy": "2024-05-01T08:33:04.839764Z",
     "iopub.status.idle": "2024-05-01T08:33:05.349678Z",
     "shell.execute_reply": "2024-05-01T08:33:05.348349Z",
     "shell.execute_reply.started": "2024-05-01T08:33:04.840035Z"
    },
    "jupyter": {
     "outputs_hidden": false
    }
   },
   "outputs": [
    {
     "data": {
      "image/png": "[encoded data removed]",
      "text/plain": [
       "<Figure size 720x504 with 1 Axes>"
      ]
     },
     "metadata": {
      "needs_background": "light"
     },
     "output_type": "display_data"
    }
   ],
   "source": [
    "movies_groupby_movie_Ratings = movies.groupby('movieId')['Rating']\n",
    "movies_groupby_movie_Ratings.count().clip(upper=30).unique()\n",
    "ratings_movies = pd.DataFrame(movies_groupby_movie_Ratings.count().clip(upper=30))\n",
    "ratings_movies.rename(columns={\"Rating\": \"Rating_Count\"}, inplace=True)\n",
    "distplot(1, 1, 10, 7, data=ratings_movies, features=['Rating_Count'], colors=['green'], kde=False)"
   ]
  },
  {
   "cell_type": "markdown",
   "metadata": {
    "_cell_guid": "38e192ef-364b-49fa-a35a-ddf61d657f5a",
    "_uuid": "b8da130a-c3f9-4da4-a52e-402f067e6017"
   },
   "source": [
    "<a id=\"a5c\"></a>\n",
    "## c. Top Rating Count Distribution grouped by Users"
   ]
  },
  {
   "cell_type": "code",
   "execution_count": 30,
   "metadata": {
    "_cell_guid": "98649355-6160-4470-899d-97478bf9dcba",
    "_uuid": "187be75b-94f4-459a-9c99-b7da3d49b655",
    "collapsed": false,
    "execution": {
     "iopub.execute_input": "2024-05-01T08:33:05.351836Z",
     "iopub.status.busy": "2024-05-01T08:33:05.351458Z",
     "iopub.status.idle": "2024-05-01T08:33:05.813735Z",
     "shell.execute_reply": "2024-05-01T08:33:05.812797Z",
     "shell.execute_reply.started": "2024-05-01T08:33:05.351787Z"
    },
    "jupyter": {
     "outputs_hidden": false
    }
   },
   "outputs": [
    {
     "data": {
      "image/png": "[encoded data removed]",
      "text/plain": [
       "<Figure size 720x504 with 1 Axes>"
      ]
     },
     "metadata": {
      "needs_background": "light"
     },
     "output_type": "display_data"
    }
   ],
   "source": [
    "movies_groupby_users_Ratings = movies.groupby('userId')['Rating']\n",
    "movies_groupby_users_Ratings.count().clip(lower=50).unique()\n",
    "rating_users = pd.DataFrame(movies_groupby_users_Ratings.count().clip(lower=50, upper=300))\n",
    "rating_users.rename(columns={\"Rating\": \"Rating_Count\"}, inplace=True)\n",
    "distplot(1, 1, 10, 7, data=rating_users, features=['Rating_Count'], colors=['orange'], kde=False, bins=50)"
   ]
  },
  {
   "cell_type": "markdown",
   "metadata": {
    "_cell_guid": "0dbec7c0-8cd3-4219-9702-4e8427d7e89e",
    "_uuid": "38655f89-d266-4666-a425-6ee4bc234229"
   },
   "source": [
    "<a id=\"a5d\"></a>\n",
    "## d. Mean Rating Distribution grouped by Movies"
   ]
  },
  {
   "cell_type": "code",
   "execution_count": 31,
   "metadata": {
    "_cell_guid": "88b8b128-8c26-43e8-ab39-048fd5dbf2b6",
    "_uuid": "672f4162-80d5-4dbc-bf4a-8028248e9807",
    "collapsed": false,
    "execution": {
     "iopub.execute_input": "2024-05-01T08:33:05.816399Z",
     "iopub.status.busy": "2024-05-01T08:33:05.815965Z",
     "iopub.status.idle": "2024-05-01T08:33:06.431734Z",
     "shell.execute_reply": "2024-05-01T08:33:06.430578Z",
     "shell.execute_reply.started": "2024-05-01T08:33:05.816352Z"
    },
    "jupyter": {
     "outputs_hidden": false
    }
   },
   "outputs": [
    {
     "data": {
      "image/png": "[encoded data removed]",
      "text/plain": [
       "<Figure size 720x504 with 1 Axes>"
      ]
     },
     "metadata": {
      "needs_background": "light"
     },
     "output_type": "display_data"
    }
   ],
   "source": [
    "ratings = pd.DataFrame(movies.groupby('movieId')['Rating'].mean())\n",
    "ratings.rename(columns={\"Rating\": \"Rating_Mean\"}, inplace=True)\n",
    "distplot(1, 1, 10, 7, data=ratings, features=['Rating_Mean'], colors=['brown'], kde=False, bins=50)"
   ]
  },
  {
   "cell_type": "markdown",
   "metadata": {
    "_cell_guid": "e7ae8345-3eae-454b-b74c-ba243b705f31",
    "_uuid": "60d00504-5c1b-4839-bfaf-1e51ddfc8280"
   },
   "source": [
    "<a id=\"a5e\"></a>\n",
    "## e. Mean Rating - Rating Count Distribution grouped by Movies"
   ]
  },
  {
   "cell_type": "code",
   "execution_count": 32,
   "metadata": {
    "_cell_guid": "e51ebd66-de7d-4d21-a1e4-51556c35ccba",
    "_uuid": "51c85c41-c915-4607-9749-16d6929f7c28",
    "collapsed": false,
    "execution": {
     "iopub.execute_input": "2024-05-01T08:33:06.433900Z",
     "iopub.status.busy": "2024-05-01T08:33:06.433530Z",
     "iopub.status.idle": "2024-05-01T08:33:06.844628Z",
     "shell.execute_reply": "2024-05-01T08:33:06.843596Z",
     "shell.execute_reply.started": "2024-05-01T08:33:06.433856Z"
    },
    "jupyter": {
     "outputs_hidden": false
    }
   },
   "outputs": [
    {
     "data": {
      "image/png": "[encoded data removed]",
      "text/plain": [
       "<Figure size 720x576 with 1 Axes>"
      ]
     },
     "metadata": {
      "needs_background": "light"
     },
     "output_type": "display_data"
    }
   ],
   "source": [
    "ratings['Rating_Count'] = movies.groupby('movieId')['Rating'].count()\n",
    "scatterplot('Rating_Mean', 'Rating_Count', data=ratings)"
   ]
  },
  {
   "cell_type": "markdown",
   "metadata": {
    "_cell_guid": "9861e4b8-968a-4157-9863-5fa9c94a0158",
    "_uuid": "e88faa85-9f26-483f-a2b4-4ddf7d3c95fc"
   },
   "source": [
    "<a id=\"a5f\"></a>\n",
    "## f. Mean Rating Distribution grouped by Users"
   ]
  },
  {
   "cell_type": "code",
   "execution_count": 33,
   "metadata": {
    "_cell_guid": "19a20d51-0906-4398-8647-95c2f50fa82a",
    "_uuid": "66c5930e-449f-475a-8f21-ae9803d08e39",
    "collapsed": false,
    "execution": {
     "iopub.execute_input": "2024-05-01T08:33:06.846441Z",
     "iopub.status.busy": "2024-05-01T08:33:06.846146Z",
     "iopub.status.idle": "2024-05-01T08:33:07.313797Z",
     "shell.execute_reply": "2024-05-01T08:33:07.312946Z",
     "shell.execute_reply.started": "2024-05-01T08:33:06.846409Z"
    },
    "jupyter": {
     "outputs_hidden": false
    }
   },
   "outputs": [
    {
     "data": {
      "image/png": "[encoded data removed]",
      "text/plain": [
       "<Figure size 720x504 with 1 Axes>"
      ]
     },
     "metadata": {
      "needs_background": "light"
     },
     "output_type": "display_data"
    }
   ],
   "source": [
    "ratings = pd.DataFrame(movies.groupby('userId')['Rating'].mean())\n",
    "ratings.rename(columns={\"Rating\": \"Rating_Mean\"}, inplace=True)\n",
    "distplot(1, 1, 10, 7, data=ratings, features=['Rating_Mean'], colors=['brown'], kde=False, bins=50)"
   ]
  },
  {
   "cell_type": "markdown",
   "metadata": {
    "_cell_guid": "a0b6c892-25dd-479e-b5ec-1048acd477cb",
    "_uuid": "40eb755c-6bec-4446-a75f-511bce2a7f18"
   },
   "source": [
    "<a id=\"a5g\"></a>\n",
    "## g. Mean Rating - Rating Count Distribution grouped by Users"
   ]
  },
  {
   "cell_type": "code",
   "execution_count": 34,
   "metadata": {
    "_cell_guid": "0daecaf2-182d-4748-a89c-a09a43f28358",
    "_uuid": "5185c287-809d-4270-9832-58f8f6abf27a",
    "collapsed": false,
    "execution": {
     "iopub.execute_input": "2024-05-01T08:33:07.315559Z",
     "iopub.status.busy": "2024-05-01T08:33:07.315297Z",
     "iopub.status.idle": "2024-05-01T08:33:07.699540Z",
     "shell.execute_reply": "2024-05-01T08:33:07.698690Z",
     "shell.execute_reply.started": "2024-05-01T08:33:07.315530Z"
    },
    "jupyter": {
     "outputs_hidden": false
    }
   },
   "outputs": [
    {
     "data": {
      "image/png": "[encoded data removed]",
      "text/plain": [
       "<Figure size 720x576 with 1 Axes>"
      ]
     },
     "metadata": {
      "needs_background": "light"
     },
     "output_type": "display_data"
    }
   ],
   "source": [
    "ratings['Rating_Count'] = movies.groupby('userId')['Rating'].count()\n",
    "scatterplot('Rating_Mean', 'Rating_Count', data=ratings)"
   ]
  },
  {
   "cell_type": "markdown",
   "metadata": {
    "_cell_guid": "f51c6c40-b5fe-4843-89c4-3088cfe5052b",
    "_uuid": "e14790cc-1846-41fa-a1fa-1a5b6e52799f"
   },
   "source": [
    "<a id=\"a6\"></a>\n",
    "# Split the data into training and test set in the ratio of 70:30 respectively"
   ]
  },
  {
   "cell_type": "code",
   "execution_count": 9,
   "metadata": {
    "_cell_guid": "bdeba06c-48db-4a22-9547-5c67d63d2fd9",
    "_uuid": "cec01bd6-16cb-4e15-9380-01a243cdd02f",
    "collapsed": false,
    "execution": {
     "iopub.execute_input": "2024-05-01T09:55:55.265044Z",
     "iopub.status.busy": "2024-05-01T09:55:55.264676Z",
     "iopub.status.idle": "2024-05-01T09:55:55.282828Z",
     "shell.execute_reply": "2024-05-01T09:55:55.281902Z",
     "shell.execute_reply.started": "2024-05-01T09:55:55.265010Z"
    },
    "jupyter": {
     "outputs_hidden": false
    }
   },
   "outputs": [
    {
     "data": {
      "text/markdown": [
       "<span style='color:brown'>**Training and Testing Set Distribution**</span>"
      ],
      "text/plain": [
       "<IPython.core.display.Markdown object>"
      ]
     },
     "metadata": {},
     "output_type": "display_data"
    },
    {
     "name": "stdout",
     "output_type": "stream",
     "text": [
      "Training set has 61929 rows and 3 columns\n",
      "Testing set has 26542 rows and 3 columns\n"
     ]
    }
   ],
   "source": [
    "train_data, test_data = train_test_split(movies, test_size =.30, random_state=10)\n",
    "printmd('**Training and Testing Set Distribution**', color='brown')\n",
    "\n",
    "print(f'Training set has {train_data.shape[0]} rows and {train_data.shape[1]} columns')\n",
    "print(f'Testing set has {test_data.shape[0]} rows and {test_data.shape[1]} columns')"
   ]
  },
  {
   "cell_type": "markdown",
   "metadata": {
    "_cell_guid": "8cd93992-6bcf-4cd7-a250-b0a36b24706a",
    "_uuid": "04d70443-7629-44cd-9c0c-66b8cd82e477"
   },
   "source": [
    "<a id=\"a7\"></a>\n",
    "# Recommender Systems"
   ]
  },
  {
   "cell_type": "markdown",
   "metadata": {
    "_cell_guid": "014c8c0e-34f1-4b6a-acb7-f8757d5e4f5a",
    "_uuid": "7db2362e-2e6d-4115-8344-ec3c76159bff"
   },
   "source": [
    "<a id=\"a7a\"></a>\n",
    "## a. Popularity Based Recommender Model"
   ]
  },
  {
   "cell_type": "code",
   "execution_count": 36,
   "metadata": {
    "_cell_guid": "e4bc2cc8-1ef5-4bd4-ad9a-73e11178abe6",
    "_uuid": "50eeede4-13d6-4b40-b464-b6a2f99e62e0",
    "collapsed": false,
    "execution": {
     "iopub.execute_input": "2024-05-01T08:33:07.720531Z",
     "iopub.status.busy": "2024-05-01T08:33:07.720232Z",
     "iopub.status.idle": "2024-05-01T08:33:07.746489Z",
     "shell.execute_reply": "2024-05-01T08:33:07.745234Z",
     "shell.execute_reply.started": "2024-05-01T08:33:07.720498Z"
    },
    "jupyter": {
     "outputs_hidden": false
    }
   },
   "outputs": [],
   "source": [
    "class popularity_based_recommender_model():\n",
    "    def __init__(self, train_data, test_data, user_id, item_id):\n",
    "        self.train_data = train_data\n",
    "        self.test_data = test_data\n",
    "        self.user_id = user_id\n",
    "        self.item_id = item_id\n",
    "        self.popularity_recommendations = None\n",
    "        \n",
    "    #Create the popularity based recommender system model\n",
    "    def fit(self):\n",
    "        #Get a count of user_ids for each unique product as recommendation score\n",
    "        train_data_grouped = train_data.groupby([self.item_id]).agg({self.user_id: 'count'}).reset_index()\n",
    "        train_data_grouped.rename(columns = {'userId': 'score'},inplace=True)\n",
    "    \n",
    "        #Sort the products based upon recommendation score\n",
    "        train_data_sort = train_data_grouped.sort_values(['score', self.item_id], ascending = [0,1])\n",
    "    \n",
    "        #Generate a recommendation rank based upon score\n",
    "        train_data_sort['Rank'] = train_data_sort['score'].rank(ascending=0, method='first')\n",
    "        \n",
    "        #Get the top 10 recommendations\n",
    "        self.popularity_recommendations = train_data_sort.head(20)\n",
    "\n",
    "    #Use the popularity based recommender system model to make recommendations\n",
    "    def recommend(self, user_id, n=5):    \n",
    "        user_recommendations = self.popularity_recommendations\n",
    "        \n",
    "        #Filter products that are not rated by the user\n",
    "        products_already_rated_by_user = self.train_data[self.train_data[self.user_id] == user_id][self.item_id]        \n",
    "        user_recommendations = user_recommendations[~user_recommendations[self.item_id].isin(products_already_rated_by_user)]\n",
    "        \n",
    "        #Add user_id column for which the recommendations are being generated\n",
    "        user_recommendations['user_id'] = user_id\n",
    "    \n",
    "        #Bring user_id column to the front\n",
    "        cols = user_recommendations.columns.tolist()\n",
    "        cols = cols[-1:] + cols[:-1]\n",
    "        user_recommendations = user_recommendations[cols].head(n)     \n",
    "        self.plot(user_recommendations)\n",
    "        return user_recommendations\n",
    "    \n",
    "    def plot(self, user_recommendations):\n",
    "        f, axes = plt.subplots(1, 2, figsize=(20, 8))\n",
    "        cplot1 = sns.barplot(x='Rank', y='score', data=user_recommendations, hue='Rank', ax=axes[0])\n",
    "        cplot1.set_xlabel('Rank',fontsize=20)\n",
    "        cplot1.set_ylabel('score',fontsize=20)            \n",
    "        cplot2 = sns.pointplot(x='Rank', y='score', data=user_recommendations, hue='Rank', ax=axes[1])\n",
    "        cplot2.set_xlabel('Rank',fontsize=20)\n",
    "        cplot2.set_ylabel('score',fontsize=20)\n",
    "        \n",
    "    def predict_evaluate(self):        \n",
    "        ratings = pd.DataFrame(self.train_data.groupby(self.item_id)['Rating'].mean())\n",
    "        \n",
    "        pred_ratings = [];            \n",
    "        for data in self.test_data.values:\n",
    "            if(data[1] in (ratings.index)):\n",
    "                pred_ratings.append(ratings.loc[data[1]])\n",
    "            else:\n",
    "                pred_ratings.append(0)\n",
    "        \n",
    "        mse = mean_squared_error(self.test_data['Rating'], pred_ratings)\n",
    "        rmse = sqrt(mse)\n",
    "        return rmse"
   ]
  },
  {
   "cell_type": "markdown",
   "metadata": {
    "_cell_guid": "e168f481-c073-4a7d-84af-7c21b7f143aa",
    "_uuid": "1ba37c24-f165-4209-89dc-c5f5d7a88006"
   },
   "source": [
    "<a id=\"a7a1\"></a>\n",
    "### Initialize and Fit"
   ]
  },
  {
   "cell_type": "code",
   "execution_count": 37,
   "metadata": {
    "_cell_guid": "7c36ff25-b33b-403b-b451-ab1b146327c2",
    "_uuid": "0af1f67d-a6fa-43c3-a29d-e3926686a046",
    "collapsed": false,
    "execution": {
     "iopub.execute_input": "2024-05-01T08:33:07.748361Z",
     "iopub.status.busy": "2024-05-01T08:33:07.747972Z",
     "iopub.status.idle": "2024-05-01T08:33:07.783292Z",
     "shell.execute_reply": "2024-05-01T08:33:07.782165Z",
     "shell.execute_reply.started": "2024-05-01T08:33:07.748324Z"
    },
    "jupyter": {
     "outputs_hidden": false
    }
   },
   "outputs": [],
   "source": [
    "pr = popularity_based_recommender_model(train_data=train_data, test_data=test_data, user_id='userId', item_id='movieId')\n",
    "pr.fit()"
   ]
  },
  {
   "cell_type": "markdown",
   "metadata": {
    "_cell_guid": "1b286868-f2c2-4179-ad91-227f450a5496",
    "_uuid": "88491382-7578-41b5-8a87-184de73da909"
   },
   "source": [
    "<a id=\"a7a3\"></a>\n",
    "### Recommend"
   ]
  },
  {
   "cell_type": "code",
   "execution_count": 38,
   "metadata": {
    "_cell_guid": "84c21978-2c34-40d0-8f09-cfb6c07ab549",
    "_uuid": "de8f4b2f-9e4b-4faf-b49f-8b3215419fe9",
    "collapsed": false,
    "execution": {
     "iopub.execute_input": "2024-05-01T08:33:07.785118Z",
     "iopub.status.busy": "2024-05-01T08:33:07.784802Z",
     "iopub.status.idle": "2024-05-01T08:33:10.239306Z",
     "shell.execute_reply": "2024-05-01T08:33:10.238256Z",
     "shell.execute_reply.started": "2024-05-01T08:33:07.785082Z"
    },
    "jupyter": {
     "outputs_hidden": false
    }
   },
   "outputs": [
    {
     "data": {
      "text/html": [
       "<table style=\"display:inline;margin-left:50px !important;margin-right: 40px !important\" border=\"1\" class=\"dataframe\">\n",
       "  <thead>\n",
       "    <tr style=\"text-align: right;\">\n",
       "      <th></th>\n",
       "      <th>user_id</th>\n",
       "      <th>movieId</th>\n",
       "      <th>score</th>\n",
       "      <th>Rank</th>\n",
       "    </tr>\n",
       "  </thead>\n",
       "  <tbody>\n",
       "    <tr>\n",
       "      <th>49</th>\n",
       "      <td>99</td>\n",
       "      <td>50</td>\n",
       "      <td>321</td>\n",
       "      <td>1.0</td>\n",
       "    </tr>\n",
       "    <tr>\n",
       "      <th>180</th>\n",
       "      <td>99</td>\n",
       "      <td>181</td>\n",
       "      <td>295</td>\n",
       "      <td>2.0</td>\n",
       "    </tr>\n",
       "    <tr>\n",
       "      <th>99</th>\n",
       "      <td>99</td>\n",
       "      <td>100</td>\n",
       "      <td>268</td>\n",
       "      <td>3.0</td>\n",
       "    </tr>\n",
       "    <tr>\n",
       "      <th>55</th>\n",
       "      <td>99</td>\n",
       "      <td>56</td>\n",
       "      <td>264</td>\n",
       "      <td>4.0</td>\n",
       "    </tr>\n",
       "    <tr>\n",
       "      <th>0</th>\n",
       "      <td>99</td>\n",
       "      <td>1</td>\n",
       "      <td>253</td>\n",
       "      <td>5.0</td>\n",
       "    </tr>\n",
       "  </tbody>\n",
       "</table style=\"display:inline;margin-left:50px !important;margin-right: 40px !important\"><table style=\"display:inline;margin-left:50px !important;margin-right: 40px !important\" border=\"1\" class=\"dataframe\">\n",
       "  <thead>\n",
       "    <tr style=\"text-align: right;\">\n",
       "      <th></th>\n",
       "      <th>user_id</th>\n",
       "      <th>movieId</th>\n",
       "      <th>score</th>\n",
       "      <th>Rank</th>\n",
       "    </tr>\n",
       "  </thead>\n",
       "  <tbody>\n",
       "    <tr>\n",
       "      <th>49</th>\n",
       "      <td>198</td>\n",
       "      <td>50</td>\n",
       "      <td>321</td>\n",
       "      <td>1.0</td>\n",
       "    </tr>\n",
       "    <tr>\n",
       "      <th>180</th>\n",
       "      <td>198</td>\n",
       "      <td>181</td>\n",
       "      <td>295</td>\n",
       "      <td>2.0</td>\n",
       "    </tr>\n",
       "    <tr>\n",
       "      <th>99</th>\n",
       "      <td>198</td>\n",
       "      <td>100</td>\n",
       "      <td>268</td>\n",
       "      <td>3.0</td>\n",
       "    </tr>\n",
       "    <tr>\n",
       "      <th>55</th>\n",
       "      <td>198</td>\n",
       "      <td>56</td>\n",
       "      <td>264</td>\n",
       "      <td>4.0</td>\n",
       "    </tr>\n",
       "    <tr>\n",
       "      <th>0</th>\n",
       "      <td>198</td>\n",
       "      <td>1</td>\n",
       "      <td>253</td>\n",
       "      <td>5.0</td>\n",
       "    </tr>\n",
       "  </tbody>\n",
       "</table style=\"display:inline;margin-left:50px !important;margin-right: 40px !important\"><table style=\"display:inline;margin-left:50px !important;margin-right: 40px !important\" border=\"1\" class=\"dataframe\">\n",
       "  <thead>\n",
       "    <tr style=\"text-align: right;\">\n",
       "      <th></th>\n",
       "      <th>user_id</th>\n",
       "      <th>movieId</th>\n",
       "      <th>score</th>\n",
       "      <th>Rank</th>\n",
       "    </tr>\n",
       "  </thead>\n",
       "  <tbody>\n",
       "    <tr>\n",
       "      <th>49</th>\n",
       "      <td>299</td>\n",
       "      <td>50</td>\n",
       "      <td>321</td>\n",
       "      <td>1.0</td>\n",
       "    </tr>\n",
       "    <tr>\n",
       "      <th>180</th>\n",
       "      <td>299</td>\n",
       "      <td>181</td>\n",
       "      <td>295</td>\n",
       "      <td>2.0</td>\n",
       "    </tr>\n",
       "    <tr>\n",
       "      <th>99</th>\n",
       "      <td>299</td>\n",
       "      <td>100</td>\n",
       "      <td>268</td>\n",
       "      <td>3.0</td>\n",
       "    </tr>\n",
       "    <tr>\n",
       "      <th>55</th>\n",
       "      <td>299</td>\n",
       "      <td>56</td>\n",
       "      <td>264</td>\n",
       "      <td>4.0</td>\n",
       "    </tr>\n",
       "    <tr>\n",
       "      <th>0</th>\n",
       "      <td>299</td>\n",
       "      <td>1</td>\n",
       "      <td>253</td>\n",
       "      <td>5.0</td>\n",
       "    </tr>\n",
       "  </tbody>\n",
       "</table style=\"display:inline;margin-left:50px !important;margin-right: 40px !important\">"
      ]
     },
     "metadata": {},
     "output_type": "display_data"
    },
    {
     "data": {
      "image/png": "[encoded data removed]",
      "text/plain": [
       "<Figure size 1440x576 with 2 Axes>"
      ]
     },
     "metadata": {
      "needs_background": "light"
     },
     "output_type": "display_data"
    },
    {
     "data": {
      "image/png": "[encoded data removed]",
      "text/plain": [
       "<Figure size 1440x576 with 2 Axes>"
      ]
     },
     "metadata": {
      "needs_background": "light"
     },
     "output_type": "display_data"
    },
    {
     "data": {
      "image/png": "[encoded data removed]",
      "text/plain": [
       "<Figure size 1440x576 with 2 Axes>"
      ]
     },
     "metadata": {
      "needs_background": "light"
     },
     "output_type": "display_data"
    }
   ],
   "source": [
    "result_pop_user1 = pr.recommend('99')\n",
    "result_pop_user2 = pr.recommend('198')\n",
    "result_pop_user3 = pr.recommend('299')\n",
    "display_side_by_side([result_pop_user1, result_pop_user2, result_pop_user3])"
   ]
  },
  {
   "cell_type": "code",
   "execution_count": 39,
   "metadata": {
    "_cell_guid": "64586958-864d-4272-b57f-4aa629ddd6e9",
    "_uuid": "e881f610-f815-4c28-8f65-f926f9563e4a",
    "collapsed": false,
    "execution": {
     "iopub.execute_input": "2024-05-01T08:33:10.241342Z",
     "iopub.status.busy": "2024-05-01T08:33:10.240926Z",
     "iopub.status.idle": "2024-05-01T08:33:18.391231Z",
     "shell.execute_reply": "2024-05-01T08:33:18.390252Z",
     "shell.execute_reply.started": "2024-05-01T08:33:10.241295Z"
    },
    "jupyter": {
     "outputs_hidden": false
    }
   },
   "outputs": [
    {
     "name": "stdout",
     "output_type": "stream",
     "text": [
      "rmse value: 1.0232654282753917\n"
     ]
    }
   ],
   "source": [
    "print(\"rmse value: \" + str(pr.predict_evaluate()))"
   ]
  },
  {
   "cell_type": "markdown",
   "metadata": {
    "_cell_guid": "86f4b6b9-778a-4186-8d7c-c18655bf8679",
    "_uuid": "0551cdb3-df94-4437-919f-e409176254e6"
   },
   "source": [
    "<a id=\"a7b\"></a>\n",
    "## b. Collaborative Filtering Recommender Model using SURPRISE Library"
   ]
  },
  {
   "cell_type": "markdown",
   "metadata": {
    "_cell_guid": "1ca27b3b-056e-400c-8a67-4033aacda5b3",
    "_uuid": "8ea1df97-269c-489c-9658-58f1bd427ebf"
   },
   "source": [
    "<a id=\"a7b1\"></a>\n",
    "### Load Surprise Data from DataFrame"
   ]
  },
  {
   "cell_type": "code",
   "execution_count": 10,
   "metadata": {
    "_cell_guid": "aefb711d-b79d-41ff-b88a-14471eecd69a",
    "_uuid": "b6e9efc4-9afb-4cd6-8469-550e35e91313",
    "collapsed": false,
    "execution": {
     "iopub.execute_input": "2024-05-01T09:56:03.162561Z",
     "iopub.status.busy": "2024-05-01T09:56:03.161886Z",
     "iopub.status.idle": "2024-05-01T09:56:03.343361Z",
     "shell.execute_reply": "2024-05-01T09:56:03.342377Z",
     "shell.execute_reply.started": "2024-05-01T09:56:03.162518Z"
    },
    "jupyter": {
     "outputs_hidden": false
    }
   },
   "outputs": [],
   "source": [
    "from surprise import accuracy\n",
    "from surprise.model_selection.validation import cross_validate\n",
    "from surprise.dataset import Dataset\n",
    "from surprise.reader import Reader\n",
    "from surprise import SVD\n",
    "from surprise import KNNBasic\n",
    "from surprise import KNNWithMeans\n",
    "reader = Reader()\n",
    "surprise_data = Dataset.load_from_df(movies, reader)"
   ]
  },
  {
   "cell_type": "markdown",
   "metadata": {
    "_cell_guid": "10b6d861-6fcb-467c-b360-d150335edd4d",
    "_uuid": "a58ee4b8-599a-4cdc-899a-10845e259bf2"
   },
   "source": [
    "<a id=\"a7b2\"></a>\n",
    "### Split the data into training and test set in the ratio of 70:30 respectively"
   ]
  },
  {
   "cell_type": "code",
   "execution_count": 11,
   "metadata": {
    "_cell_guid": "3af49043-793d-4b66-a37f-1f2f46420fff",
    "_uuid": "fd2b4f6a-1036-4f28-b083-e7b7f0bfc827",
    "collapsed": false,
    "execution": {
     "iopub.execute_input": "2024-05-01T09:56:05.221087Z",
     "iopub.status.busy": "2024-05-01T09:56:05.220737Z",
     "iopub.status.idle": "2024-05-01T09:56:05.389995Z",
     "shell.execute_reply": "2024-05-01T09:56:05.389057Z",
     "shell.execute_reply.started": "2024-05-01T09:56:05.221054Z"
    },
    "jupyter": {
     "outputs_hidden": false
    }
   },
   "outputs": [],
   "source": [
    "from surprise.model_selection import train_test_split\n",
    "trainset, testset = train_test_split(surprise_data, test_size=.3, random_state=10)"
   ]
  },
  {
   "cell_type": "code",
   "execution_count": 12,
   "metadata": {
    "_cell_guid": "e3fd7682-76e3-4d5f-b0eb-5a9f9974e1db",
    "_uuid": "4e6ab1fb-e23d-4157-97dc-aad00d117293",
    "collapsed": false,
    "execution": {
     "iopub.execute_input": "2024-05-01T09:56:06.833598Z",
     "iopub.status.busy": "2024-05-01T09:56:06.833215Z",
     "iopub.status.idle": "2024-05-01T09:56:06.842663Z",
     "shell.execute_reply": "2024-05-01T09:56:06.841325Z",
     "shell.execute_reply.started": "2024-05-01T09:56:06.833559Z"
    },
    "jupyter": {
     "outputs_hidden": false
    }
   },
   "outputs": [],
   "source": [
    "from collections import defaultdict\n",
    "\n",
    "def get_top_n(predictions, n=10):\n",
    "    # First map the predictions to each user.\n",
    "    top_n = defaultdict(list)\n",
    "    for uid, iid, true_r, est, _ in predictions:\n",
    "        top_n[uid].append((iid, est))\n",
    "\n",
    "    # Then sort the predictions for each user and retrieve the k highest ones.\n",
    "    for uid, user_ratings in top_n.items():\n",
    "        user_ratings.sort(key=lambda x: x[1], reverse=True)\n",
    "        top_n[uid] = user_ratings[:n]\n",
    "\n",
    "    return top_n"
   ]
  },
  {
   "cell_type": "code",
   "execution_count": 13,
   "metadata": {
    "_cell_guid": "815fa03f-c90d-46ed-8181-ac18ecbdd5c2",
    "_uuid": "56afff78-5572-4989-8ebb-f597b683dfe3",
    "collapsed": false,
    "execution": {
     "iopub.execute_input": "2024-05-01T09:56:08.015323Z",
     "iopub.status.busy": "2024-05-01T09:56:08.014963Z",
     "iopub.status.idle": "2024-05-01T09:56:08.035130Z",
     "shell.execute_reply": "2024-05-01T09:56:08.034210Z",
     "shell.execute_reply.started": "2024-05-01T09:56:08.015288Z"
    },
    "jupyter": {
     "outputs_hidden": false
    }
   },
   "outputs": [],
   "source": [
    "class collab_filtering_based_recommender_model():\n",
    "    def __init__(self, model, trainset, testset, data):\n",
    "        self.model = model\n",
    "        self.trainset = trainset\n",
    "        self.testset = testset\n",
    "        self.data = data\n",
    "        self.pred_test = None\n",
    "        self.recommendations = None\n",
    "        self.top_n = None\n",
    "        self.recommenddf = None\n",
    "\n",
    "    def fit_and_predict(self):        \n",
    "        printmd('**Fitting the train data...**', color='brown')\n",
    "        self.model.fit(self.trainset)       \n",
    "\n",
    "        printmd('**Predicting the test data...**', color='brown')\n",
    "        self.pred_test = self.model.test(self.testset)        \n",
    "        rmse = round(accuracy.rmse(self.pred_test), 3)\n",
    "        printmd('**RMSE for the predicted result is ' + str(rmse) + '**', color='brown')   \n",
    "        \n",
    "        self.top_n = get_top_n(self.pred_test)\n",
    "        self.recommenddf = pd.DataFrame(columns=['userId', 'movieId', 'Rating'])\n",
    "        for item in self.top_n:\n",
    "            subdf = pd.DataFrame(self.top_n[item], columns=['movieId', 'Rating'])\n",
    "            subdf['userId'] = item\n",
    "            cols = subdf.columns.tolist()\n",
    "            cols = cols[-1:] + cols[:-1]\n",
    "            subdf = subdf[cols]    \n",
    "            self.recommenddf = pd.concat([self.recommenddf, subdf], axis = 0)     \n",
    "        return rmse\n",
    "        \n",
    "    def cross_validate(self):\n",
    "        printmd('**Cross Validating the data...**', color='brown')\n",
    "        cv_result = cross_validate(self.model, self.data, n_jobs=-1)\n",
    "        cv_result = round(cv_result['test_rmse'].mean(),3)\n",
    "        printmd('**Mean CV RMSE is ' + str(cv_result)  + '**', color='brown')\n",
    "        return cv_result\n",
    "\n",
    "    def recommend(self, user_id, n=5):\n",
    "        df = self.recommenddf[self.recommenddf['userId'] == int(user_id)].head(n)\n",
    "        return df"
   ]
  },
  {
   "cell_type": "code",
   "execution_count": 14,
   "metadata": {
    "_cell_guid": "7b42f7a5-d1a5-4e33-b351-ca0265cf7672",
    "_uuid": "07a6a1d9-545f-4b2c-ae54-981d9ecf943e",
    "collapsed": false,
    "execution": {
     "iopub.execute_input": "2024-05-01T09:56:09.801592Z",
     "iopub.status.busy": "2024-05-01T09:56:09.801251Z",
     "iopub.status.idle": "2024-05-01T09:56:09.809759Z",
     "shell.execute_reply": "2024-05-01T09:56:09.808441Z",
     "shell.execute_reply.started": "2024-05-01T09:56:09.801561Z"
    },
    "jupyter": {
     "outputs_hidden": false
    }
   },
   "outputs": [],
   "source": [
    "from surprise.model_selection import RandomizedSearchCV\n",
    "\n",
    "def find_best_model(model, parameters,data):\n",
    "    clf = RandomizedSearchCV(model, parameters, n_jobs=-1, measures=['rmse'])\n",
    "    clf.fit(data)             \n",
    "    print(clf.best_score)\n",
    "    print(clf.best_params)\n",
    "    print(clf.best_estimator)\n",
    "    return clf"
   ]
  },
  {
   "cell_type": "markdown",
   "metadata": {
    "_cell_guid": "194630c7-2f71-4c18-ba73-a1ef9df64700",
    "_uuid": "8bf7b223-52af-4d41-b345-ce8365456ca3"
   },
   "source": [
    "<a id=\"a7b3\"></a>\n",
    "### KNN With Means - Memory Based Collaborative Filtering"
   ]
  },
  {
   "cell_type": "code",
   "execution_count": 45,
   "metadata": {
    "_cell_guid": "ba272b81-6731-4405-aa1f-9571efe1544e",
    "_uuid": "a28cdc42-a24a-4854-9f3c-d7b62db59b53",
    "collapsed": false,
    "execution": {
     "iopub.execute_input": "2024-05-01T08:33:18.801908Z",
     "iopub.status.busy": "2024-05-01T08:33:18.801596Z",
     "iopub.status.idle": "2024-05-01T08:36:04.828810Z",
     "shell.execute_reply": "2024-05-01T08:36:04.827543Z",
     "shell.execute_reply.started": "2024-05-01T08:33:18.801877Z"
    },
    "jupyter": {
     "outputs_hidden": false
    }
   },
   "outputs": [
    {
     "name": "stdout",
     "output_type": "stream",
     "text": [
      "{'rmse': 0.9363161676980454}\n",
      "{'rmse': {'k': 30, 'sim_options': {'name': 'pearson', 'min_support': 8, 'user_based': True}}}\n",
      "{'rmse': <surprise.prediction_algorithms.knns.KNNWithMeans object at 0x780797c46d68>}\n"
     ]
    }
   ],
   "source": [
    "sim_options = {\n",
    "    \"name\": [\"msd\", \"cosine\", \"pearson\"],\n",
    "    \"min_support\": [2, 4, 8],\n",
    "    \"user_based\": [True],\n",
    "}\n",
    "params = { 'k': [10, 20, 30], 'sim_options': sim_options}\n",
    "clf = find_best_model(KNNWithMeans, params, surprise_data)"
   ]
  },
  {
   "cell_type": "markdown",
   "metadata": {
    "_cell_guid": "2fd60dde-7df7-41ca-b8bb-0d90caffb887",
    "_uuid": "212b0f49-e849-48bc-bc19-3177fde3e81b"
   },
   "source": [
    "<a id=\"a7b3b\"></a>\n",
    "#### Initialize"
   ]
  },
  {
   "cell_type": "code",
   "execution_count": 46,
   "metadata": {
    "_cell_guid": "a6b6905a-0a62-4894-9065-8da185b39b35",
    "_uuid": "e4dac3d2-55c4-4643-bcb7-750f5fea3d83",
    "collapsed": false,
    "execution": {
     "iopub.execute_input": "2024-05-01T08:36:04.831697Z",
     "iopub.status.busy": "2024-05-01T08:36:04.831276Z",
     "iopub.status.idle": "2024-05-01T08:36:04.837176Z",
     "shell.execute_reply": "2024-05-01T08:36:04.836131Z",
     "shell.execute_reply.started": "2024-05-01T08:36:04.831647Z"
    },
    "jupyter": {
     "outputs_hidden": false
    }
   },
   "outputs": [],
   "source": [
    "knnwithmeans = clf.best_estimator['rmse']\n",
    "col_fil_knnwithmeans = collab_filtering_based_recommender_model(knnwithmeans, trainset, testset, surprise_data)"
   ]
  },
  {
   "cell_type": "markdown",
   "metadata": {
    "_cell_guid": "10cbb53f-6232-44b5-a2cc-d8fd17ac8991",
    "_uuid": "dc84cedb-c4a7-481f-b305-789dce7f1af2"
   },
   "source": [
    "<a id=\"a7b3c\"></a>\n",
    "#### Fit and Predict"
   ]
  },
  {
   "cell_type": "code",
   "execution_count": 47,
   "metadata": {
    "_cell_guid": "a920f4aa-bd3f-4639-b20b-c9665cfafe47",
    "_uuid": "ec880723-2bec-4e8a-9270-9db752025149",
    "collapsed": false,
    "execution": {
     "iopub.execute_input": "2024-05-01T08:36:04.839656Z",
     "iopub.status.busy": "2024-05-01T08:36:04.839233Z",
     "iopub.status.idle": "2024-05-01T08:36:15.714261Z",
     "shell.execute_reply": "2024-05-01T08:36:15.713257Z",
     "shell.execute_reply.started": "2024-05-01T08:36:04.839613Z"
    },
    "jupyter": {
     "outputs_hidden": false
    }
   },
   "outputs": [
    {
     "data": {
      "text/markdown": [
       "<span style='color:brown'>**Fitting the train data...**</span>"
      ],
      "text/plain": [
       "<IPython.core.display.Markdown object>"
      ]
     },
     "metadata": {},
     "output_type": "display_data"
    },
    {
     "name": "stdout",
     "output_type": "stream",
     "text": [
      "Computing the pearson similarity matrix...\n",
      "Done computing similarity matrix.\n"
     ]
    },
    {
     "data": {
      "text/markdown": [
       "<span style='color:brown'>**Predicting the test data...**</span>"
      ],
      "text/plain": [
       "<IPython.core.display.Markdown object>"
      ]
     },
     "metadata": {},
     "output_type": "display_data"
    },
    {
     "name": "stdout",
     "output_type": "stream",
     "text": [
      "RMSE: 0.9385\n"
     ]
    },
    {
     "data": {
      "text/markdown": [
       "<span style='color:brown'>**RMSE for the predicted result is 0.939**</span>"
      ],
      "text/plain": [
       "<IPython.core.display.Markdown object>"
      ]
     },
     "metadata": {},
     "output_type": "display_data"
    }
   ],
   "source": [
    "knnwithmeans_rmse = col_fil_knnwithmeans.fit_and_predict()"
   ]
  },
  {
   "cell_type": "markdown",
   "metadata": {
    "_cell_guid": "6877df61-fc6c-4be0-8413-f46288c3b2e6",
    "_uuid": "d0c5e207-b914-406c-8c94-d498aa5dde38"
   },
   "source": [
    "<a id=\"a7b3d\"></a>\n",
    "#### Cross Validate"
   ]
  },
  {
   "cell_type": "code",
   "execution_count": 60,
   "metadata": {
    "_cell_guid": "7f54f817-2d50-4e84-830b-596b68e4909d",
    "_uuid": "d3134f72-0352-4c47-94a7-aaf0418289a3",
    "collapsed": false,
    "execution": {
     "iopub.execute_input": "2024-05-01T08:43:54.506789Z",
     "iopub.status.busy": "2024-05-01T08:43:54.506385Z",
     "iopub.status.idle": "2024-05-01T08:44:25.234103Z",
     "shell.execute_reply": "2024-05-01T08:44:25.233055Z",
     "shell.execute_reply.started": "2024-05-01T08:43:54.506740Z"
    },
    "jupyter": {
     "outputs_hidden": false
    }
   },
   "outputs": [
    {
     "data": {
      "text/markdown": [
       "<span style='color:brown'>**Cross Validating the data...**</span>"
      ],
      "text/plain": [
       "<IPython.core.display.Markdown object>"
      ]
     },
     "metadata": {},
     "output_type": "display_data"
    },
    {
     "data": {
      "text/markdown": [
       "<span style='color:brown'>**Mean CV RMSE is 0.937**</span>"
      ],
      "text/plain": [
       "<IPython.core.display.Markdown object>"
      ]
     },
     "metadata": {},
     "output_type": "display_data"
    }
   ],
   "source": [
    "knnwithmeans_cv_rmse = col_fil_knnwithmeans.cross_validate()"
   ]
  },
  {
   "cell_type": "markdown",
   "metadata": {
    "_cell_guid": "da16d404-a2ed-4361-b088-0163d2b666db",
    "_uuid": "30c4558c-d5c3-4607-8ad9-7b9195758d24"
   },
   "source": [
    "<a id=\"a7b3e\"></a>\n",
    "#### Recommend"
   ]
  },
  {
   "cell_type": "code",
   "execution_count": 49,
   "metadata": {
    "_cell_guid": "61f2ad93-07f4-4ea4-a4f8-0e0f01433e85",
    "_uuid": "539836f9-7e6c-44b5-aaa6-aaa98f8c005d",
    "collapsed": false,
    "execution": {
     "iopub.execute_input": "2024-05-01T08:36:46.348950Z",
     "iopub.status.busy": "2024-05-01T08:36:46.348628Z",
     "iopub.status.idle": "2024-05-01T08:36:46.372483Z",
     "shell.execute_reply": "2024-05-01T08:36:46.371597Z",
     "shell.execute_reply.started": "2024-05-01T08:36:46.348914Z"
    },
    "jupyter": {
     "outputs_hidden": false
    }
   },
   "outputs": [
    {
     "data": {
      "text/html": [
       "<table style=\"display:inline;margin-left:50px !important;margin-right: 40px !important\" border=\"1\" class=\"dataframe\">\n",
       "  <thead>\n",
       "    <tr style=\"text-align: right;\">\n",
       "      <th></th>\n",
       "      <th>userId</th>\n",
       "      <th>movieId</th>\n",
       "      <th>Rating</th>\n",
       "    </tr>\n",
       "  </thead>\n",
       "  <tbody>\n",
       "    <tr>\n",
       "      <th>0</th>\n",
       "      <td>99</td>\n",
       "      <td>313</td>\n",
       "      <td>4.453927</td>\n",
       "    </tr>\n",
       "    <tr>\n",
       "      <th>1</th>\n",
       "      <td>99</td>\n",
       "      <td>246</td>\n",
       "      <td>4.276267</td>\n",
       "    </tr>\n",
       "    <tr>\n",
       "      <th>2</th>\n",
       "      <td>99</td>\n",
       "      <td>22</td>\n",
       "      <td>4.226257</td>\n",
       "    </tr>\n",
       "    <tr>\n",
       "      <th>3</th>\n",
       "      <td>99</td>\n",
       "      <td>124</td>\n",
       "      <td>4.199897</td>\n",
       "    </tr>\n",
       "    <tr>\n",
       "      <th>4</th>\n",
       "      <td>99</td>\n",
       "      <td>173</td>\n",
       "      <td>4.172640</td>\n",
       "    </tr>\n",
       "  </tbody>\n",
       "</table style=\"display:inline;margin-left:50px !important;margin-right: 40px !important\"><table style=\"display:inline;margin-left:50px !important;margin-right: 40px !important\" border=\"1\" class=\"dataframe\">\n",
       "  <thead>\n",
       "    <tr style=\"text-align: right;\">\n",
       "      <th></th>\n",
       "      <th>userId</th>\n",
       "      <th>movieId</th>\n",
       "      <th>Rating</th>\n",
       "    </tr>\n",
       "  </thead>\n",
       "  <tbody>\n",
       "    <tr>\n",
       "      <th>0</th>\n",
       "      <td>198</td>\n",
       "      <td>654</td>\n",
       "      <td>4.134923</td>\n",
       "    </tr>\n",
       "    <tr>\n",
       "      <th>1</th>\n",
       "      <td>198</td>\n",
       "      <td>176</td>\n",
       "      <td>4.114065</td>\n",
       "    </tr>\n",
       "    <tr>\n",
       "      <th>2</th>\n",
       "      <td>198</td>\n",
       "      <td>357</td>\n",
       "      <td>4.094766</td>\n",
       "    </tr>\n",
       "    <tr>\n",
       "      <th>3</th>\n",
       "      <td>198</td>\n",
       "      <td>180</td>\n",
       "      <td>4.086006</td>\n",
       "    </tr>\n",
       "    <tr>\n",
       "      <th>4</th>\n",
       "      <td>198</td>\n",
       "      <td>511</td>\n",
       "      <td>4.074492</td>\n",
       "    </tr>\n",
       "  </tbody>\n",
       "</table style=\"display:inline;margin-left:50px !important;margin-right: 40px !important\"><table style=\"display:inline;margin-left:50px !important;margin-right: 40px !important\" border=\"1\" class=\"dataframe\">\n",
       "  <thead>\n",
       "    <tr style=\"text-align: right;\">\n",
       "      <th></th>\n",
       "      <th>userId</th>\n",
       "      <th>movieId</th>\n",
       "      <th>Rating</th>\n",
       "    </tr>\n",
       "  </thead>\n",
       "  <tbody>\n",
       "    <tr>\n",
       "      <th>0</th>\n",
       "      <td>299</td>\n",
       "      <td>114</td>\n",
       "      <td>4.479710</td>\n",
       "    </tr>\n",
       "    <tr>\n",
       "      <th>1</th>\n",
       "      <td>299</td>\n",
       "      <td>127</td>\n",
       "      <td>4.471035</td>\n",
       "    </tr>\n",
       "    <tr>\n",
       "      <th>2</th>\n",
       "      <td>299</td>\n",
       "      <td>318</td>\n",
       "      <td>4.414905</td>\n",
       "    </tr>\n",
       "    <tr>\n",
       "      <th>3</th>\n",
       "      <td>299</td>\n",
       "      <td>191</td>\n",
       "      <td>4.355334</td>\n",
       "    </tr>\n",
       "    <tr>\n",
       "      <th>4</th>\n",
       "      <td>299</td>\n",
       "      <td>169</td>\n",
       "      <td>4.308978</td>\n",
       "    </tr>\n",
       "  </tbody>\n",
       "</table style=\"display:inline;margin-left:50px !important;margin-right: 40px !important\">"
      ]
     },
     "metadata": {},
     "output_type": "display_data"
    }
   ],
   "source": [
    "result_knn_user1 = col_fil_knnwithmeans.recommend(user_id='99', n=5)\n",
    "result_knn_user2 = col_fil_knnwithmeans.recommend(user_id='198', n=5)\n",
    "result_knn_user3 = col_fil_knnwithmeans.recommend(user_id='299', n=5)\n",
    "display_side_by_side([result_knn_user1, result_knn_user2, result_knn_user3])"
   ]
  },
  {
   "cell_type": "markdown",
   "metadata": {
    "_cell_guid": "2bcc432d-1007-42a1-8b2e-89dc2d57c3bd",
    "_uuid": "47850bf8-8146-499b-9553-b1ae6bc30659"
   },
   "source": [
    "<a id=\"a7b4\"></a>\n",
    "### SVD - Model Based Collaborative Filtering"
   ]
  },
  {
   "cell_type": "code",
   "execution_count": 15,
   "metadata": {
    "_cell_guid": "60ca33c3-6ae9-41a6-9501-fa6aa42f4669",
    "_uuid": "b67600a3-0ee9-4519-ad72-dcee20056324",
    "collapsed": false,
    "execution": {
     "iopub.execute_input": "2024-05-01T09:56:15.369828Z",
     "iopub.status.busy": "2024-05-01T09:56:15.369425Z",
     "iopub.status.idle": "2024-05-01T10:00:00.426443Z",
     "shell.execute_reply": "2024-05-01T10:00:00.425495Z",
     "shell.execute_reply.started": "2024-05-01T09:56:15.369790Z"
    },
    "jupyter": {
     "outputs_hidden": false
    }
   },
   "outputs": [
    {
     "name": "stdout",
     "output_type": "stream",
     "text": [
      "{'rmse': 0.932766652993491}\n",
      "{'rmse': {'n_epochs': 30, 'lr_all': 0.01, 'reg_all': 0.2}}\n",
      "{'rmse': <surprise.prediction_algorithms.matrix_factorization.SVD object at 0x7e0308c1ec18>}\n"
     ]
    }
   ],
   "source": [
    "params= {\n",
    "    \"n_epochs\": [5, 10, 15, 20, 25, 30],\n",
    "    \"lr_all\": [0.002, 0.005, 0.01],\n",
    "    \"reg_all\": [0.2, 0.4, 0.6]\n",
    "}\n",
    "clf = find_best_model(SVD, params, surprise_data)"
   ]
  },
  {
   "cell_type": "markdown",
   "metadata": {
    "_cell_guid": "209c25b3-b1db-49f6-81f5-757db392f28f",
    "_uuid": "7f6c494c-e619-42c9-ad45-1692add86273"
   },
   "source": [
    "<a id=\"a7b4b\"></a>\n",
    "#### Initialize"
   ]
  },
  {
   "cell_type": "code",
   "execution_count": 16,
   "metadata": {
    "_cell_guid": "8d4435b0-1a0b-477f-b95d-4d4c0d8f2788",
    "_uuid": "c3ef4b7d-2768-4009-85fa-2e7ecb3d6ccc",
    "collapsed": false,
    "execution": {
     "iopub.execute_input": "2024-05-01T10:00:00.429476Z",
     "iopub.status.busy": "2024-05-01T10:00:00.428759Z",
     "iopub.status.idle": "2024-05-01T10:00:00.434151Z",
     "shell.execute_reply": "2024-05-01T10:00:00.433368Z",
     "shell.execute_reply.started": "2024-05-01T10:00:00.429433Z"
    },
    "jupyter": {
     "outputs_hidden": false
    }
   },
   "outputs": [],
   "source": [
    "svd = clf.best_estimator['rmse']\n",
    "col_fil_svd = collab_filtering_based_recommender_model(svd, trainset, testset, surprise_data)"
   ]
  },
  {
   "cell_type": "markdown",
   "metadata": {
    "_cell_guid": "ef83f5d9-7a80-44fa-b7d2-960a50aad38d",
    "_uuid": "049b452f-7f2e-40f0-9640-5eaffe7d6bc6"
   },
   "source": [
    "<a id=\"a7b4c\"></a>\n",
    "#### Fit and Predict"
   ]
  },
  {
   "cell_type": "code",
   "execution_count": 17,
   "metadata": {
    "_cell_guid": "140c10bb-fc65-4f2c-9fa5-8d8a92ee194a",
    "_uuid": "ad150ee9-b5ef-4165-b8c6-d24598486fa7",
    "collapsed": false,
    "execution": {
     "iopub.execute_input": "2024-05-01T10:00:00.436328Z",
     "iopub.status.busy": "2024-05-01T10:00:00.435709Z",
     "iopub.status.idle": "2024-05-01T10:00:14.551100Z",
     "shell.execute_reply": "2024-05-01T10:00:14.549992Z",
     "shell.execute_reply.started": "2024-05-01T10:00:00.436275Z"
    },
    "jupyter": {
     "outputs_hidden": false
    }
   },
   "outputs": [
    {
     "data": {
      "text/markdown": [
       "<span style='color:brown'>**Fitting the train data...**</span>"
      ],
      "text/plain": [
       "<IPython.core.display.Markdown object>"
      ]
     },
     "metadata": {},
     "output_type": "display_data"
    },
    {
     "data": {
      "text/markdown": [
       "<span style='color:brown'>**Predicting the test data...**</span>"
      ],
      "text/plain": [
       "<IPython.core.display.Markdown object>"
      ]
     },
     "metadata": {},
     "output_type": "display_data"
    },
    {
     "name": "stdout",
     "output_type": "stream",
     "text": [
      "RMSE: 0.9309\n"
     ]
    },
    {
     "data": {
      "text/markdown": [
       "<span style='color:brown'>**RMSE for the predicted result is 0.931**</span>"
      ],
      "text/plain": [
       "<IPython.core.display.Markdown object>"
      ]
     },
     "metadata": {},
     "output_type": "display_data"
    }
   ],
   "source": [
    "svd_rmse = col_fil_svd.fit_and_predict()"
   ]
  },
  {
   "cell_type": "markdown",
   "metadata": {
    "_cell_guid": "a43ed6c1-8bd1-4945-84fb-b01209cce3b0",
    "_uuid": "29837229-7247-4978-8b8b-298b700580f0"
   },
   "source": [
    "<a id=\"a7b4d\"></a>\n",
    "#### Cross Validate"
   ]
  },
  {
   "cell_type": "code",
   "execution_count": 18,
   "metadata": {
    "_cell_guid": "3309ae38-836e-4914-84c6-df6f583a44e7",
    "_uuid": "fd8a2905-d81c-4ed3-b327-ff6ec4571aa4",
    "collapsed": false,
    "execution": {
     "iopub.execute_input": "2024-05-01T10:00:16.241765Z",
     "iopub.status.busy": "2024-05-01T10:00:16.241422Z",
     "iopub.status.idle": "2024-05-01T10:00:57.614467Z",
     "shell.execute_reply": "2024-05-01T10:00:57.613548Z",
     "shell.execute_reply.started": "2024-05-01T10:00:16.241733Z"
    },
    "jupyter": {
     "outputs_hidden": false
    }
   },
   "outputs": [
    {
     "data": {
      "text/markdown": [
       "<span style='color:brown'>**Cross Validating the data...**</span>"
      ],
      "text/plain": [
       "<IPython.core.display.Markdown object>"
      ]
     },
     "metadata": {},
     "output_type": "display_data"
    },
    {
     "data": {
      "text/markdown": [
       "<span style='color:brown'>**Mean CV RMSE is 0.932**</span>"
      ],
      "text/plain": [
       "<IPython.core.display.Markdown object>"
      ]
     },
     "metadata": {},
     "output_type": "display_data"
    }
   ],
   "source": [
    "svd_cv_rmse = col_fil_svd.cross_validate()"
   ]
  },
  {
   "cell_type": "markdown",
   "metadata": {
    "_cell_guid": "dbb56d86-41d4-46ab-9350-7113439b85d9",
    "_uuid": "af3d8ed2-eb64-4441-9f2f-f117ba3567c9"
   },
   "source": [
    "<a id=\"a7b4e\"></a>\n",
    "#### Recommend"
   ]
  },
  {
   "cell_type": "code",
   "execution_count": 54,
   "metadata": {
    "_cell_guid": "31ee6feb-b934-47cf-b830-dbf70f186228",
    "_uuid": "2b3dfbe8-ec1c-4e13-884c-0435dd8a16b0",
    "collapsed": false,
    "execution": {
     "iopub.execute_input": "2024-05-01T08:40:49.819405Z",
     "iopub.status.busy": "2024-05-01T08:40:49.818982Z",
     "iopub.status.idle": "2024-05-01T08:40:49.841868Z",
     "shell.execute_reply": "2024-05-01T08:40:49.841050Z",
     "shell.execute_reply.started": "2024-05-01T08:40:49.819358Z"
    },
    "jupyter": {
     "outputs_hidden": false
    }
   },
   "outputs": [
    {
     "data": {
      "text/html": [
       "<table style=\"display:inline;margin-left:50px !important;margin-right: 40px !important\" border=\"1\" class=\"dataframe\">\n",
       "  <thead>\n",
       "    <tr style=\"text-align: right;\">\n",
       "      <th></th>\n",
       "      <th>userId</th>\n",
       "      <th>movieId</th>\n",
       "      <th>Rating</th>\n",
       "    </tr>\n",
       "  </thead>\n",
       "  <tbody>\n",
       "    <tr>\n",
       "      <th>0</th>\n",
       "      <td>99</td>\n",
       "      <td>313</td>\n",
       "      <td>4.213867</td>\n",
       "    </tr>\n",
       "    <tr>\n",
       "      <th>1</th>\n",
       "      <td>99</td>\n",
       "      <td>22</td>\n",
       "      <td>4.082447</td>\n",
       "    </tr>\n",
       "    <tr>\n",
       "      <th>2</th>\n",
       "      <td>99</td>\n",
       "      <td>173</td>\n",
       "      <td>4.065418</td>\n",
       "    </tr>\n",
       "    <tr>\n",
       "      <th>3</th>\n",
       "      <td>99</td>\n",
       "      <td>124</td>\n",
       "      <td>4.049032</td>\n",
       "    </tr>\n",
       "    <tr>\n",
       "      <th>4</th>\n",
       "      <td>99</td>\n",
       "      <td>181</td>\n",
       "      <td>4.036100</td>\n",
       "    </tr>\n",
       "  </tbody>\n",
       "</table style=\"display:inline;margin-left:50px !important;margin-right: 40px !important\"><table style=\"display:inline;margin-left:50px !important;margin-right: 40px !important\" border=\"1\" class=\"dataframe\">\n",
       "  <thead>\n",
       "    <tr style=\"text-align: right;\">\n",
       "      <th></th>\n",
       "      <th>userId</th>\n",
       "      <th>movieId</th>\n",
       "      <th>Rating</th>\n",
       "    </tr>\n",
       "  </thead>\n",
       "  <tbody>\n",
       "    <tr>\n",
       "      <th>0</th>\n",
       "      <td>198</td>\n",
       "      <td>174</td>\n",
       "      <td>3.868669</td>\n",
       "    </tr>\n",
       "    <tr>\n",
       "      <th>1</th>\n",
       "      <td>198</td>\n",
       "      <td>427</td>\n",
       "      <td>3.868073</td>\n",
       "    </tr>\n",
       "    <tr>\n",
       "      <th>2</th>\n",
       "      <td>198</td>\n",
       "      <td>357</td>\n",
       "      <td>3.834912</td>\n",
       "    </tr>\n",
       "    <tr>\n",
       "      <th>3</th>\n",
       "      <td>198</td>\n",
       "      <td>498</td>\n",
       "      <td>3.820703</td>\n",
       "    </tr>\n",
       "    <tr>\n",
       "      <th>4</th>\n",
       "      <td>198</td>\n",
       "      <td>511</td>\n",
       "      <td>3.813750</td>\n",
       "    </tr>\n",
       "  </tbody>\n",
       "</table style=\"display:inline;margin-left:50px !important;margin-right: 40px !important\"><table style=\"display:inline;margin-left:50px !important;margin-right: 40px !important\" border=\"1\" class=\"dataframe\">\n",
       "  <thead>\n",
       "    <tr style=\"text-align: right;\">\n",
       "      <th></th>\n",
       "      <th>userId</th>\n",
       "      <th>movieId</th>\n",
       "      <th>Rating</th>\n",
       "    </tr>\n",
       "  </thead>\n",
       "  <tbody>\n",
       "    <tr>\n",
       "      <th>0</th>\n",
       "      <td>299</td>\n",
       "      <td>318</td>\n",
       "      <td>4.153936</td>\n",
       "    </tr>\n",
       "    <tr>\n",
       "      <th>1</th>\n",
       "      <td>299</td>\n",
       "      <td>114</td>\n",
       "      <td>4.103042</td>\n",
       "    </tr>\n",
       "    <tr>\n",
       "      <th>2</th>\n",
       "      <td>299</td>\n",
       "      <td>169</td>\n",
       "      <td>4.086371</td>\n",
       "    </tr>\n",
       "    <tr>\n",
       "      <th>3</th>\n",
       "      <td>299</td>\n",
       "      <td>127</td>\n",
       "      <td>4.001703</td>\n",
       "    </tr>\n",
       "    <tr>\n",
       "      <th>4</th>\n",
       "      <td>299</td>\n",
       "      <td>174</td>\n",
       "      <td>3.968271</td>\n",
       "    </tr>\n",
       "  </tbody>\n",
       "</table style=\"display:inline;margin-left:50px !important;margin-right: 40px !important\">"
      ]
     },
     "metadata": {},
     "output_type": "display_data"
    }
   ],
   "source": [
    "result_svd_user1 = col_fil_svd.recommend(user_id='99', n=5)\n",
    "result_svd_user2 = col_fil_svd.recommend(user_id='198', n=5)\n",
    "result_svd_user3 = col_fil_svd.recommend(user_id='299', n=5)\n",
    "display_side_by_side([result_svd_user1, result_svd_user2, result_svd_user3])"
   ]
  },
  {
   "cell_type": "markdown",
   "metadata": {},
   "source": [
    "### Non-Negative Matrix Factorization model"
   ]
  },
  {
   "cell_type": "code",
   "execution_count": 55,
   "metadata": {
    "execution": {
     "iopub.execute_input": "2024-05-01T08:40:49.846232Z",
     "iopub.status.busy": "2024-05-01T08:40:49.845812Z",
     "iopub.status.idle": "2024-05-01T08:43:19.875436Z",
     "shell.execute_reply": "2024-05-01T08:43:19.874303Z",
     "shell.execute_reply.started": "2024-05-01T08:40:49.846185Z"
    }
   },
   "outputs": [],
   "source": [
    "from surprise.model_selection import GridSearchCV\n",
    "from surprise.prediction_algorithms import NMF\n",
    "\n",
    "params = {\n",
    "    'n_factors': [8, 16, 32],\n",
    "    'n_epochs': [10, 20, 30],\n",
    "    'biased': [True, False]  # Whether to use biases or not\n",
    "}\n",
    "\n",
    "# Use GridSearchCV to find the best NMF model\n",
    "clf = GridSearchCV(NMF, params, measures=['rmse'], cv=3, n_jobs=-1)\n",
    "clf.fit(surprise_data)\n",
    "\n",
    "# Get the best NMF model\n",
    "best_nmf_model = clf.best_estimator['rmse']"
   ]
  },
  {
   "cell_type": "code",
   "execution_count": 56,
   "metadata": {
    "execution": {
     "iopub.execute_input": "2024-05-01T08:43:19.877714Z",
     "iopub.status.busy": "2024-05-01T08:43:19.877402Z",
     "iopub.status.idle": "2024-05-01T08:43:19.882208Z",
     "shell.execute_reply": "2024-05-01T08:43:19.881356Z",
     "shell.execute_reply.started": "2024-05-01T08:43:19.877681Z"
    }
   },
   "outputs": [],
   "source": [
    "col_fil_nmf = collab_filtering_based_recommender_model(best_nmf_model, trainset, testset, surprise_data)"
   ]
  },
  {
   "cell_type": "code",
   "execution_count": 57,
   "metadata": {
    "_cell_guid": "7ddcf490-5909-4497-8cec-a8381e12e5c9",
    "_uuid": "90f7cbae-2990-4c5b-8ca4-e39879cbcf66",
    "collapsed": false,
    "execution": {
     "iopub.execute_input": "2024-05-01T08:43:19.883832Z",
     "iopub.status.busy": "2024-05-01T08:43:19.883498Z",
     "iopub.status.idle": "2024-05-01T08:43:26.416248Z",
     "shell.execute_reply": "2024-05-01T08:43:26.415350Z",
     "shell.execute_reply.started": "2024-05-01T08:43:19.883793Z"
    },
    "jupyter": {
     "outputs_hidden": false
    }
   },
   "outputs": [
    {
     "data": {
      "text/markdown": [
       "<span style='color:brown'>**Fitting the train data...**</span>"
      ],
      "text/plain": [
       "<IPython.core.display.Markdown object>"
      ]
     },
     "metadata": {},
     "output_type": "display_data"
    },
    {
     "data": {
      "text/markdown": [
       "<span style='color:brown'>**Predicting the test data...**</span>"
      ],
      "text/plain": [
       "<IPython.core.display.Markdown object>"
      ]
     },
     "metadata": {},
     "output_type": "display_data"
    },
    {
     "name": "stdout",
     "output_type": "stream",
     "text": [
      "RMSE: 0.9291\n"
     ]
    },
    {
     "data": {
      "text/markdown": [
       "<span style='color:brown'>**RMSE for the predicted result is 0.929**</span>"
      ],
      "text/plain": [
       "<IPython.core.display.Markdown object>"
      ]
     },
     "metadata": {},
     "output_type": "display_data"
    }
   ],
   "source": [
    "nmf_rmse = col_fil_nmf.fit_and_predict()"
   ]
  },
  {
   "cell_type": "code",
   "execution_count": 58,
   "metadata": {
    "_cell_guid": "7206cbe8-3d25-4ef6-8662-c0fd90190526",
    "_uuid": "5ba35a8a-c019-4c50-a78e-20e274720016",
    "collapsed": false,
    "execution": {
     "iopub.execute_input": "2024-05-01T08:43:26.417896Z",
     "iopub.status.busy": "2024-05-01T08:43:26.417606Z",
     "iopub.status.idle": "2024-05-01T08:43:54.479952Z",
     "shell.execute_reply": "2024-05-01T08:43:54.479095Z",
     "shell.execute_reply.started": "2024-05-01T08:43:26.417866Z"
    },
    "jupyter": {
     "outputs_hidden": false
    }
   },
   "outputs": [
    {
     "data": {
      "text/markdown": [
       "<span style='color:brown'>**Cross Validating the data...**</span>"
      ],
      "text/plain": [
       "<IPython.core.display.Markdown object>"
      ]
     },
     "metadata": {},
     "output_type": "display_data"
    },
    {
     "data": {
      "text/markdown": [
       "<span style='color:brown'>**Mean CV RMSE is 0.93**</span>"
      ],
      "text/plain": [
       "<IPython.core.display.Markdown object>"
      ]
     },
     "metadata": {},
     "output_type": "display_data"
    }
   ],
   "source": [
    "nmf_cv_rmse = col_fil_nmf.cross_validate()"
   ]
  },
  {
   "cell_type": "code",
   "execution_count": 59,
   "metadata": {
    "_cell_guid": "a1c03c6c-aa59-4e63-a053-f0a3272ee2c3",
    "_uuid": "220cd3ad-2f61-4f13-9872-f5f8251a5981",
    "collapsed": false,
    "execution": {
     "iopub.execute_input": "2024-05-01T08:43:54.482237Z",
     "iopub.status.busy": "2024-05-01T08:43:54.481903Z",
     "iopub.status.idle": "2024-05-01T08:43:54.504646Z",
     "shell.execute_reply": "2024-05-01T08:43:54.503529Z",
     "shell.execute_reply.started": "2024-05-01T08:43:54.482204Z"
    },
    "jupyter": {
     "outputs_hidden": false
    }
   },
   "outputs": [
    {
     "data": {
      "text/html": [
       "<table style=\"display:inline;margin-left:50px !important;margin-right: 40px !important\" border=\"1\" class=\"dataframe\">\n",
       "  <thead>\n",
       "    <tr style=\"text-align: right;\">\n",
       "      <th></th>\n",
       "      <th>userId</th>\n",
       "      <th>movieId</th>\n",
       "      <th>Rating</th>\n",
       "    </tr>\n",
       "  </thead>\n",
       "  <tbody>\n",
       "    <tr>\n",
       "      <th>0</th>\n",
       "      <td>99</td>\n",
       "      <td>313</td>\n",
       "      <td>4.346964</td>\n",
       "    </tr>\n",
       "    <tr>\n",
       "      <th>1</th>\n",
       "      <td>99</td>\n",
       "      <td>173</td>\n",
       "      <td>4.317604</td>\n",
       "    </tr>\n",
       "    <tr>\n",
       "      <th>2</th>\n",
       "      <td>99</td>\n",
       "      <td>22</td>\n",
       "      <td>4.211845</td>\n",
       "    </tr>\n",
       "    <tr>\n",
       "      <th>3</th>\n",
       "      <td>99</td>\n",
       "      <td>181</td>\n",
       "      <td>4.151171</td>\n",
       "    </tr>\n",
       "    <tr>\n",
       "      <th>4</th>\n",
       "      <td>99</td>\n",
       "      <td>238</td>\n",
       "      <td>4.081391</td>\n",
       "    </tr>\n",
       "  </tbody>\n",
       "</table style=\"display:inline;margin-left:50px !important;margin-right: 40px !important\"><table style=\"display:inline;margin-left:50px !important;margin-right: 40px !important\" border=\"1\" class=\"dataframe\">\n",
       "  <thead>\n",
       "    <tr style=\"text-align: right;\">\n",
       "      <th></th>\n",
       "      <th>userId</th>\n",
       "      <th>movieId</th>\n",
       "      <th>Rating</th>\n",
       "    </tr>\n",
       "  </thead>\n",
       "  <tbody>\n",
       "    <tr>\n",
       "      <th>0</th>\n",
       "      <td>198</td>\n",
       "      <td>357</td>\n",
       "      <td>3.934203</td>\n",
       "    </tr>\n",
       "    <tr>\n",
       "      <th>1</th>\n",
       "      <td>198</td>\n",
       "      <td>498</td>\n",
       "      <td>3.908046</td>\n",
       "    </tr>\n",
       "    <tr>\n",
       "      <th>2</th>\n",
       "      <td>198</td>\n",
       "      <td>191</td>\n",
       "      <td>3.891199</td>\n",
       "    </tr>\n",
       "    <tr>\n",
       "      <th>3</th>\n",
       "      <td>198</td>\n",
       "      <td>174</td>\n",
       "      <td>3.889502</td>\n",
       "    </tr>\n",
       "    <tr>\n",
       "      <th>4</th>\n",
       "      <td>198</td>\n",
       "      <td>511</td>\n",
       "      <td>3.855207</td>\n",
       "    </tr>\n",
       "  </tbody>\n",
       "</table style=\"display:inline;margin-left:50px !important;margin-right: 40px !important\"><table style=\"display:inline;margin-left:50px !important;margin-right: 40px !important\" border=\"1\" class=\"dataframe\">\n",
       "  <thead>\n",
       "    <tr style=\"text-align: right;\">\n",
       "      <th></th>\n",
       "      <th>userId</th>\n",
       "      <th>movieId</th>\n",
       "      <th>Rating</th>\n",
       "    </tr>\n",
       "  </thead>\n",
       "  <tbody>\n",
       "    <tr>\n",
       "      <th>0</th>\n",
       "      <td>299</td>\n",
       "      <td>318</td>\n",
       "      <td>4.229870</td>\n",
       "    </tr>\n",
       "    <tr>\n",
       "      <th>1</th>\n",
       "      <td>299</td>\n",
       "      <td>114</td>\n",
       "      <td>4.228567</td>\n",
       "    </tr>\n",
       "    <tr>\n",
       "      <th>2</th>\n",
       "      <td>299</td>\n",
       "      <td>169</td>\n",
       "      <td>4.196843</td>\n",
       "    </tr>\n",
       "    <tr>\n",
       "      <th>3</th>\n",
       "      <td>299</td>\n",
       "      <td>127</td>\n",
       "      <td>4.098712</td>\n",
       "    </tr>\n",
       "    <tr>\n",
       "      <th>4</th>\n",
       "      <td>299</td>\n",
       "      <td>174</td>\n",
       "      <td>4.034780</td>\n",
       "    </tr>\n",
       "  </tbody>\n",
       "</table style=\"display:inline;margin-left:50px !important;margin-right: 40px !important\">"
      ]
     },
     "metadata": {},
     "output_type": "display_data"
    }
   ],
   "source": [
    "result_nmf_user1 = col_fil_nmf.recommend(user_id='99', n=5)\n",
    "result_nmf_user2 = col_fil_nmf.recommend(user_id='198', n=5)\n",
    "result_nmf_user3 = col_fil_nmf.recommend(user_id='299', n=5)\n",
    "display_side_by_side([result_nmf_user1, result_nmf_user2, result_nmf_user3])"
   ]
  },
  {
   "cell_type": "markdown",
   "metadata": {
    "_cell_guid": "28170bde-4bdb-43d5-84a7-46424615631a",
    "_uuid": "ea1d6674-f608-4d31-bc48-5975bf476c4e"
   },
   "source": [
    "### Neural Collaborative Filtering model"
   ]
  },
  {
   "cell_type": "code",
   "execution_count": null,
   "metadata": {
    "_cell_guid": "e486ce5a-2e84-4c7a-a0bc-a74169a54dfd",
    "_uuid": "48f15788-4aa3-4d06-9f5a-32640d0c7662",
    "collapsed": false,
    "jupyter": {
     "outputs_hidden": false
    }
   },
   "outputs": [],
   "source": [
    "import numpy as np\n",
    "from keras.models import Sequential\n",
    "from keras.layers import Dense\n",
    "from keras.optimizers import Adam\n",
    "from surprise import AlgoBase\n",
    "from surprise import PredictionImpossible\n",
    "\n",
    "class NeuralNetworkModel(AlgoBase):\n",
    "    def __init__(self, hidden_layer_sizes=(16,), learning_rate=0.1, epochs=10, batch_size=32):\n",
    "        self.hidden_layer_sizes = hidden_layer_sizes\n",
    "        self.learning_rate = learning_rate\n",
    "        self.epochs = epochs\n",
    "        self.batch_size = batch_size\n",
    "        self.model = None\n",
    "\n",
    "    def fit(self, trainset):\n",
    "        AlgoBase.fit(self, trainset)\n",
    "\n",
    "        # Create the neural network model\n",
    "        self.model = Sequential()\n",
    "        self.model.add(Dense(self.hidden_layer_sizes[0], input_dim=2, activation='relu'))\n",
    "\n",
    "        for layer_size in self.hidden_layer_sizes[1:]:\n",
    "            self.model.add(Dense(layer_size, activation='relu'))\n",
    "\n",
    "        self.model.add(Dense(1))\n",
    "        print(self.model.summary())\n",
    "\n",
    "        # Compile the model\n",
    "        self.model.compile(optimizer=Adam(lr=self.learning_rate), loss='mean_squared_error')\n",
    "\n",
    "        # Prepare data\n",
    "        X = np.zeros((trainset.n_ratings, 2))\n",
    "        y = np.zeros(trainset.n_ratings)\n",
    "\n",
    "        for idx,(u, i, r) in enumerate(trainset.all_ratings()):\n",
    "            X[idx, 0] = u\n",
    "            X[idx, 1] = i\n",
    "            y[idx] = r\n",
    "\n",
    "        # Fit the model\n",
    "        self.model.fit(X, y, epochs=self.epochs, batch_size=self.batch_size, verbose=0)\n",
    "\n",
    "    def test(self, testset):\n",
    "        # Get the testset in the required format\n",
    "        X_test = np.zeros((len(testset),2))\n",
    "        y_true = np.zeros(len(testset))\n",
    "\n",
    "        predictions = []\n",
    "        for idx, (uid, iid, rating) in enumerate(testset):\n",
    "            X_test[idx,0] = uid\n",
    "            X_test[idx,1] = iid\n",
    "            y_true[idx] = rating\n",
    "            predictions.append([uid,iid,rating,0.0,0.0])\n",
    "\n",
    "        # Predict ratings\n",
    "        y_pred = self.model.predict(X_test)\n",
    "        for i,rating in enumerate(y_pred):\n",
    "            predictions[i][3]=rating[0]\n",
    "        return predictions"
   ]
  },
  {
   "cell_type": "code",
   "execution_count": null,
   "metadata": {
    "_cell_guid": "6d0fd686-4351-41f6-aa72-4eb3c43d69f7",
    "_uuid": "33bf1ea4-5848-4268-96f8-a3a1c1ef1d6b",
    "collapsed": false,
    "execution": {
     "iopub.status.busy": "2024-05-01T07:42:28.428165Z",
     "iopub.status.idle": "2024-05-01T07:42:28.428595Z"
    },
    "jupyter": {
     "outputs_hidden": false
    }
   },
   "outputs": [],
   "source": [
    "params= {\n",
    "    \"hidden_layer_sizes\":[(10,5),(500,100)],\n",
    "    \"learning_rate\":[0.01,0.1,0.001],\n",
    "    \"epochs\":[100,50,200],\n",
    "    \"batch_size\":[64,32,128]\n",
    "}\n",
    "clf = find_best_model(NeuralNetworkModel, params, surprise_data)"
   ]
  },
  {
   "cell_type": "code",
   "execution_count": null,
   "metadata": {
    "_cell_guid": "c468874b-48d7-41e2-b134-02353bba84eb",
    "_uuid": "2a83a63a-2788-40e4-9519-301b6a263421",
    "collapsed": false,
    "execution": {
     "iopub.status.busy": "2024-05-01T07:42:28.430881Z",
     "iopub.status.idle": "2024-05-01T07:42:28.431456Z"
    },
    "jupyter": {
     "outputs_hidden": false
    }
   },
   "outputs": [],
   "source": [
    "nn = clf.best_estimator['rmse']\n",
    "col_fil_nn = collab_filtering_based_recommender_model(nn, trainset, testset, surprise_data)"
   ]
  },
  {
   "cell_type": "code",
   "execution_count": 19,
   "metadata": {
    "execution": {
     "iopub.execute_input": "2024-05-01T10:04:03.996491Z",
     "iopub.status.busy": "2024-05-01T10:04:03.996040Z",
     "iopub.status.idle": "2024-05-01T10:04:04.009666Z",
     "shell.execute_reply": "2024-05-01T10:04:04.008713Z",
     "shell.execute_reply.started": "2024-05-01T10:04:03.996448Z"
    }
   },
   "outputs": [
    {
     "data": {
      "text/markdown": [
       "<span style='color:brown'>**Fitting the train data...**</span>"
      ],
      "text/plain": [
       "<IPython.core.display.Markdown object>"
      ]
     },
     "metadata": {},
     "output_type": "display_data"
    },
    {
     "data": {
      "text/markdown": [
       "<span style='color:brown'>**Predicting the test data...**</span>"
      ],
      "text/plain": [
       "<IPython.core.display.Markdown object>"
      ]
     },
     "metadata": {},
     "output_type": "display_data"
    },
    {
     "name": "stdout",
     "output_type": "stream",
     "text": [
      "RMSE: 0.8936\n"
     ]
    },
    {
     "data": {
      "text/markdown": [
       "<span style='color:brown'>**RMSE for the predicted result is 0.894**</span>"
      ],
      "text/plain": [
       "<IPython.core.display.Markdown object>"
      ]
     },
     "metadata": {},
     "output_type": "display_data"
    }
   ],
   "source": [
    "nn_rmse = col_fil_nn.fit_and_predict()"
   ]
  },
  {
   "cell_type": "code",
   "execution_count": 20,
   "metadata": {
    "execution": {
     "iopub.execute_input": "2024-05-01T10:04:05.435658Z",
     "iopub.status.busy": "2024-05-01T10:04:05.435007Z",
     "iopub.status.idle": "2024-05-01T10:04:05.443350Z",
     "shell.execute_reply": "2024-05-01T10:04:05.442527Z",
     "shell.execute_reply.started": "2024-05-01T10:04:05.435617Z"
    }
   },
   "outputs": [
    {
     "data": {
      "text/markdown": [
       "<span style='color:brown'>**Cross Validating the data...**</span>"
      ],
      "text/plain": [
       "<IPython.core.display.Markdown object>"
      ]
     },
     "metadata": {},
     "output_type": "display_data"
    },
    {
     "data": {
      "text/markdown": [
       "<span style='color:brown'>**Mean CV RMSE is 0.895**</span>"
      ],
      "text/plain": [
       "<IPython.core.display.Markdown object>"
      ]
     },
     "metadata": {},
     "output_type": "display_data"
    }
   ],
   "source": [
    "nn_cv_rmse = col_fil_nn.cross_validate()"
   ]
  },
  {
   "cell_type": "code",
   "execution_count": null,
   "metadata": {
    "_cell_guid": "edd983ea-67c9-4fb1-b110-e199577181cf",
    "_uuid": "a9b50d09-12e4-43ca-a5ef-9830d43557b4",
    "collapsed": false,
    "execution": {
     "iopub.status.busy": "2024-05-01T07:42:28.437581Z",
     "iopub.status.idle": "2024-05-01T07:42:28.438346Z"
    },
    "jupyter": {
     "outputs_hidden": false
    }
   },
   "outputs": [],
   "source": [
    "result_nn_user1 = col_fil_nn.recommend(user_id='99', n=5)\n",
    "result_nn_user2 = col_fil_nn.recommend(user_id='198', n=5)\n",
    "result_nn_user3 = col_fil_nn.recommend(user_id='299', n=5)\n",
    "display_side_by_side([result_nn_user1, result_nn_user2, result_nn_user3])"
   ]
  },
  {
   "cell_type": "markdown",
   "metadata": {},
   "source": [
    "# plot comparison"
   ]
  },
  {
   "cell_type": "code",
   "execution_count": 62,
   "metadata": {
    "execution": {
     "iopub.execute_input": "2024-05-01T08:12:46.597011Z",
     "iopub.status.busy": "2024-05-01T08:12:46.596510Z",
     "iopub.status.idle": "2024-05-01T08:12:46.603749Z",
     "shell.execute_reply": "2024-05-01T08:12:46.602163Z",
     "shell.execute_reply.started": "2024-05-01T08:12:46.596969Z"
    }
   },
   "outputs": [],
   "source": [
    "import matplotlib.pyplot as plt"
   ]
  },
  {
   "cell_type": "code",
   "execution_count": 65,
   "metadata": {
    "execution": {
     "iopub.execute_input": "2024-05-01T08:15:15.848341Z",
     "iopub.status.busy": "2024-05-01T08:15:15.847966Z",
     "iopub.status.idle": "2024-05-01T08:15:16.080700Z",
     "shell.execute_reply": "2024-05-01T08:15:16.077702Z",
     "shell.execute_reply.started": "2024-05-01T08:15:15.848307Z"
    }
   },
   "outputs": [
    {
     "data": {
      "image/png": "[encoded data removed]",
      "text/plain": [
       "<Figure size 432x288 with 1 Axes>"
      ]
     },
     "metadata": {
      "needs_background": "light"
     },
     "output_type": "display_data"
    }
   ],
   "source": [
    "rmses = [1.0232, .939, .932, .929, .895]\n",
    "algos = ['baseline_model', 'KNN', \"SVD\", 'NMF', 'Neural_model']\n",
    "plt.plot(algos, rmses)\n",
    "plt.xlabel(\"Different algos\")\n",
    "plt.ylabel(\"RMSE\")\n",
    "plt.show()"
   ]
  }
 ],
 "metadata": {
  "kaggle": {
   "accelerator": "none",
   "dataSources": [
    {
     "datasetId": 626,
     "sourceId": 1187,
     "sourceType": "datasetVersion"
    },
    {
     "datasetId": 595418,
     "sourceId": 1071445,
     "sourceType": "datasetVersion"
    }
   ],
   "dockerImageVersionId": 29867,
   "isGpuEnabled": false,
   "isInternetEnabled": true,
   "language": "python",
   "sourceType": "notebook"
  },
  "kernelspec": {
   "display_name": "Python 3 (ipykernel)",
   "language": "python",
   "name": "python3"
  },
  "language_info": {
   "codemirror_mode": {
    "name": "ipython",
    "version": 3
   },
   "file_extension": ".py",
   "mimetype": "text/x-python",
   "name": "python",
   "nbconvert_exporter": "python",
   "pygments_lexer": "ipython3",
   "version": "3.10.9"
  },
  "toc": {
   "base_numbering": 1,
   "nav_menu": {},
   "number_sections": false,
   "sideBar": true,
   "skip_h1_title": false,
   "title_cell": "Table of Contents",
   "title_sidebar": "Contents",
   "toc_cell": true,
   "toc_position": {
    "height": "calc(100% - 180px)",
    "left": "10px",
    "top": "150px",
    "width": "165px"
   },
   "toc_section_display": true,
   "toc_window_display": true
  }
 },
 "nbformat": 4,
 "nbformat_minor": 4
}
